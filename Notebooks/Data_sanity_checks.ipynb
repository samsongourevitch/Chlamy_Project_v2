{
 "cells": [
  {
   "cell_type": "code",
   "execution_count": 1,
   "metadata": {},
   "outputs": [],
   "source": [
    "%load_ext autoreload\n",
    "%autoreload 2"
   ]
  },
  {
   "cell_type": "code",
   "execution_count": 3,
   "metadata": {},
   "outputs": [],
   "source": [
    "import sys\n",
    "import os\n",
    "\n",
    "sys.path.append(os.path.abspath(\"/Users/samsongourevitch/Documents/Chlamy_Project_Github/Chlamy_project\"))"
   ]
  },
  {
   "cell_type": "code",
   "execution_count": 4,
   "metadata": {},
   "outputs": [],
   "source": [
    "import numpy as np\n",
    "import pandas as pd\n",
    "import matplotlib.pyplot as plt\n",
    "from Scripts import Data_v2\n",
    "from Scripts import Data_analysis_func\n",
    "from Scripts import Model_checks\n",
    "import seaborn as sns\n",
    "from scipy.stats import multivariate_normal\n",
    "from sklearn.linear_model import LinearRegression\n",
    "from Scripts import Outlier_detection_v2\n",
    "from Scripts import Genes_self_similarity_v2\n",
    "from matplotlib_venn import venn2, venn2_circles\n",
    "from Scripts import Feature_engineering\n",
    "from Scripts import Clusters\n",
    "from tqdm import tqdm"
   ]
  },
  {
   "cell_type": "code",
   "execution_count": 13,
   "metadata": {},
   "outputs": [
    {
     "name": "stderr",
     "output_type": "stream",
     "text": [
      "/Users/samsongourevitch/Documents/Chlamy_Project_Github/Chlamy_project/Scripts/Data_v2.py:197: PerformanceWarning: DataFrame is highly fragmented.  This is usually the result of calling `frame.insert` many times, which has poor performance.  Consider joining all columns at once using pd.concat(axis=1) instead. To get a de-fragmented frame, use `newframe = frame.copy()`\n",
      "  data['elapsed_time_0'] = 0\n",
      "/Users/samsongourevitch/Documents/Chlamy_Project_Github/Chlamy_project/Scripts/Data_v2.py:199: PerformanceWarning: DataFrame is highly fragmented.  This is usually the result of calling `frame.insert` many times, which has poor performance.  Consider joining all columns at once using pd.concat(axis=1) instead. To get a de-fragmented frame, use `newframe = frame.copy()`\n",
      "  data[f'elapsed_time_{i}'] = (data[col] - data[time_columns[0]]).dt.total_seconds() / 3600\n",
      "/Users/samsongourevitch/Documents/Chlamy_Project_Github/Chlamy_project/Scripts/Data_v2.py:199: PerformanceWarning: DataFrame is highly fragmented.  This is usually the result of calling `frame.insert` many times, which has poor performance.  Consider joining all columns at once using pd.concat(axis=1) instead. To get a de-fragmented frame, use `newframe = frame.copy()`\n",
      "  data[f'elapsed_time_{i}'] = (data[col] - data[time_columns[0]]).dt.total_seconds() / 3600\n",
      "/Users/samsongourevitch/Documents/Chlamy_Project_Github/Chlamy_project/Scripts/Data_v2.py:199: PerformanceWarning: DataFrame is highly fragmented.  This is usually the result of calling `frame.insert` many times, which has poor performance.  Consider joining all columns at once using pd.concat(axis=1) instead. To get a de-fragmented frame, use `newframe = frame.copy()`\n",
      "  data[f'elapsed_time_{i}'] = (data[col] - data[time_columns[0]]).dt.total_seconds() / 3600\n",
      "/Users/samsongourevitch/Documents/Chlamy_Project_Github/Chlamy_project/Scripts/Data_v2.py:199: PerformanceWarning: DataFrame is highly fragmented.  This is usually the result of calling `frame.insert` many times, which has poor performance.  Consider joining all columns at once using pd.concat(axis=1) instead. To get a de-fragmented frame, use `newframe = frame.copy()`\n",
      "  data[f'elapsed_time_{i}'] = (data[col] - data[time_columns[0]]).dt.total_seconds() / 3600\n",
      "/Users/samsongourevitch/Documents/Chlamy_Project_Github/Chlamy_project/Scripts/Data_v2.py:199: PerformanceWarning: DataFrame is highly fragmented.  This is usually the result of calling `frame.insert` many times, which has poor performance.  Consider joining all columns at once using pd.concat(axis=1) instead. To get a de-fragmented frame, use `newframe = frame.copy()`\n",
      "  data[f'elapsed_time_{i}'] = (data[col] - data[time_columns[0]]).dt.total_seconds() / 3600\n",
      "/Users/samsongourevitch/Documents/Chlamy_Project_Github/Chlamy_project/Scripts/Data_v2.py:199: PerformanceWarning: DataFrame is highly fragmented.  This is usually the result of calling `frame.insert` many times, which has poor performance.  Consider joining all columns at once using pd.concat(axis=1) instead. To get a de-fragmented frame, use `newframe = frame.copy()`\n",
      "  data[f'elapsed_time_{i}'] = (data[col] - data[time_columns[0]]).dt.total_seconds() / 3600\n",
      "/Users/samsongourevitch/Documents/Chlamy_Project_Github/Chlamy_project/Scripts/Data_v2.py:199: PerformanceWarning: DataFrame is highly fragmented.  This is usually the result of calling `frame.insert` many times, which has poor performance.  Consider joining all columns at once using pd.concat(axis=1) instead. To get a de-fragmented frame, use `newframe = frame.copy()`\n",
      "  data[f'elapsed_time_{i}'] = (data[col] - data[time_columns[0]]).dt.total_seconds() / 3600\n",
      "/Users/samsongourevitch/Documents/Chlamy_Project_Github/Chlamy_project/Scripts/Data_v2.py:199: PerformanceWarning: DataFrame is highly fragmented.  This is usually the result of calling `frame.insert` many times, which has poor performance.  Consider joining all columns at once using pd.concat(axis=1) instead. To get a de-fragmented frame, use `newframe = frame.copy()`\n",
      "  data[f'elapsed_time_{i}'] = (data[col] - data[time_columns[0]]).dt.total_seconds() / 3600\n",
      "/Users/samsongourevitch/Documents/Chlamy_Project_Github/Chlamy_project/Scripts/Data_v2.py:199: PerformanceWarning: DataFrame is highly fragmented.  This is usually the result of calling `frame.insert` many times, which has poor performance.  Consider joining all columns at once using pd.concat(axis=1) instead. To get a de-fragmented frame, use `newframe = frame.copy()`\n",
      "  data[f'elapsed_time_{i}'] = (data[col] - data[time_columns[0]]).dt.total_seconds() / 3600\n",
      "/Users/samsongourevitch/Documents/Chlamy_Project_Github/Chlamy_project/Scripts/Data_v2.py:199: PerformanceWarning: DataFrame is highly fragmented.  This is usually the result of calling `frame.insert` many times, which has poor performance.  Consider joining all columns at once using pd.concat(axis=1) instead. To get a de-fragmented frame, use `newframe = frame.copy()`\n",
      "  data[f'elapsed_time_{i}'] = (data[col] - data[time_columns[0]]).dt.total_seconds() / 3600\n",
      "/Users/samsongourevitch/Documents/Chlamy_Project_Github/Chlamy_project/Scripts/Data_v2.py:199: PerformanceWarning: DataFrame is highly fragmented.  This is usually the result of calling `frame.insert` many times, which has poor performance.  Consider joining all columns at once using pd.concat(axis=1) instead. To get a de-fragmented frame, use `newframe = frame.copy()`\n",
      "  data[f'elapsed_time_{i}'] = (data[col] - data[time_columns[0]]).dt.total_seconds() / 3600\n",
      "/Users/samsongourevitch/Documents/Chlamy_Project_Github/Chlamy_project/Scripts/Data_v2.py:199: PerformanceWarning: DataFrame is highly fragmented.  This is usually the result of calling `frame.insert` many times, which has poor performance.  Consider joining all columns at once using pd.concat(axis=1) instead. To get a de-fragmented frame, use `newframe = frame.copy()`\n",
      "  data[f'elapsed_time_{i}'] = (data[col] - data[time_columns[0]]).dt.total_seconds() / 3600\n",
      "/Users/samsongourevitch/Documents/Chlamy_Project_Github/Chlamy_project/Scripts/Data_v2.py:199: PerformanceWarning: DataFrame is highly fragmented.  This is usually the result of calling `frame.insert` many times, which has poor performance.  Consider joining all columns at once using pd.concat(axis=1) instead. To get a de-fragmented frame, use `newframe = frame.copy()`\n",
      "  data[f'elapsed_time_{i}'] = (data[col] - data[time_columns[0]]).dt.total_seconds() / 3600\n",
      "/Users/samsongourevitch/Documents/Chlamy_Project_Github/Chlamy_project/Scripts/Data_v2.py:199: PerformanceWarning: DataFrame is highly fragmented.  This is usually the result of calling `frame.insert` many times, which has poor performance.  Consider joining all columns at once using pd.concat(axis=1) instead. To get a de-fragmented frame, use `newframe = frame.copy()`\n",
      "  data[f'elapsed_time_{i}'] = (data[col] - data[time_columns[0]]).dt.total_seconds() / 3600\n",
      "/Users/samsongourevitch/Documents/Chlamy_Project_Github/Chlamy_project/Scripts/Data_v2.py:199: PerformanceWarning: DataFrame is highly fragmented.  This is usually the result of calling `frame.insert` many times, which has poor performance.  Consider joining all columns at once using pd.concat(axis=1) instead. To get a de-fragmented frame, use `newframe = frame.copy()`\n",
      "  data[f'elapsed_time_{i}'] = (data[col] - data[time_columns[0]]).dt.total_seconds() / 3600\n",
      "/Users/samsongourevitch/Documents/Chlamy_Project_Github/Chlamy_project/Scripts/Data_v2.py:199: PerformanceWarning: DataFrame is highly fragmented.  This is usually the result of calling `frame.insert` many times, which has poor performance.  Consider joining all columns at once using pd.concat(axis=1) instead. To get a de-fragmented frame, use `newframe = frame.copy()`\n",
      "  data[f'elapsed_time_{i}'] = (data[col] - data[time_columns[0]]).dt.total_seconds() / 3600\n",
      "/Users/samsongourevitch/Documents/Chlamy_Project_Github/Chlamy_project/Scripts/Data_v2.py:199: PerformanceWarning: DataFrame is highly fragmented.  This is usually the result of calling `frame.insert` many times, which has poor performance.  Consider joining all columns at once using pd.concat(axis=1) instead. To get a de-fragmented frame, use `newframe = frame.copy()`\n",
      "  data[f'elapsed_time_{i}'] = (data[col] - data[time_columns[0]]).dt.total_seconds() / 3600\n",
      "/Users/samsongourevitch/Documents/Chlamy_Project_Github/Chlamy_project/Scripts/Data_v2.py:199: PerformanceWarning: DataFrame is highly fragmented.  This is usually the result of calling `frame.insert` many times, which has poor performance.  Consider joining all columns at once using pd.concat(axis=1) instead. To get a de-fragmented frame, use `newframe = frame.copy()`\n",
      "  data[f'elapsed_time_{i}'] = (data[col] - data[time_columns[0]]).dt.total_seconds() / 3600\n",
      "/Users/samsongourevitch/Documents/Chlamy_Project_Github/Chlamy_project/Scripts/Data_v2.py:199: PerformanceWarning: DataFrame is highly fragmented.  This is usually the result of calling `frame.insert` many times, which has poor performance.  Consider joining all columns at once using pd.concat(axis=1) instead. To get a de-fragmented frame, use `newframe = frame.copy()`\n",
      "  data[f'elapsed_time_{i}'] = (data[col] - data[time_columns[0]]).dt.total_seconds() / 3600\n",
      "/Users/samsongourevitch/Documents/Chlamy_Project_Github/Chlamy_project/Scripts/Data_v2.py:199: PerformanceWarning: DataFrame is highly fragmented.  This is usually the result of calling `frame.insert` many times, which has poor performance.  Consider joining all columns at once using pd.concat(axis=1) instead. To get a de-fragmented frame, use `newframe = frame.copy()`\n",
      "  data[f'elapsed_time_{i}'] = (data[col] - data[time_columns[0]]).dt.total_seconds() / 3600\n",
      "/Users/samsongourevitch/Documents/Chlamy_Project_Github/Chlamy_project/Scripts/Data_v2.py:199: PerformanceWarning: DataFrame is highly fragmented.  This is usually the result of calling `frame.insert` many times, which has poor performance.  Consider joining all columns at once using pd.concat(axis=1) instead. To get a de-fragmented frame, use `newframe = frame.copy()`\n",
      "  data[f'elapsed_time_{i}'] = (data[col] - data[time_columns[0]]).dt.total_seconds() / 3600\n",
      "/Users/samsongourevitch/Documents/Chlamy_Project_Github/Chlamy_project/Scripts/Data_v2.py:199: PerformanceWarning: DataFrame is highly fragmented.  This is usually the result of calling `frame.insert` many times, which has poor performance.  Consider joining all columns at once using pd.concat(axis=1) instead. To get a de-fragmented frame, use `newframe = frame.copy()`\n",
      "  data[f'elapsed_time_{i}'] = (data[col] - data[time_columns[0]]).dt.total_seconds() / 3600\n",
      "/Users/samsongourevitch/Documents/Chlamy_Project_Github/Chlamy_project/Scripts/Data_v2.py:199: PerformanceWarning: DataFrame is highly fragmented.  This is usually the result of calling `frame.insert` many times, which has poor performance.  Consider joining all columns at once using pd.concat(axis=1) instead. To get a de-fragmented frame, use `newframe = frame.copy()`\n",
      "  data[f'elapsed_time_{i}'] = (data[col] - data[time_columns[0]]).dt.total_seconds() / 3600\n",
      "/Users/samsongourevitch/Documents/Chlamy_Project_Github/Chlamy_project/Scripts/Data_v2.py:199: PerformanceWarning: DataFrame is highly fragmented.  This is usually the result of calling `frame.insert` many times, which has poor performance.  Consider joining all columns at once using pd.concat(axis=1) instead. To get a de-fragmented frame, use `newframe = frame.copy()`\n",
      "  data[f'elapsed_time_{i}'] = (data[col] - data[time_columns[0]]).dt.total_seconds() / 3600\n",
      "/Users/samsongourevitch/Documents/Chlamy_Project_Github/Chlamy_project/Scripts/Data_v2.py:199: PerformanceWarning: DataFrame is highly fragmented.  This is usually the result of calling `frame.insert` many times, which has poor performance.  Consider joining all columns at once using pd.concat(axis=1) instead. To get a de-fragmented frame, use `newframe = frame.copy()`\n",
      "  data[f'elapsed_time_{i}'] = (data[col] - data[time_columns[0]]).dt.total_seconds() / 3600\n",
      "/Users/samsongourevitch/Documents/Chlamy_Project_Github/Chlamy_project/Scripts/Data_v2.py:199: PerformanceWarning: DataFrame is highly fragmented.  This is usually the result of calling `frame.insert` many times, which has poor performance.  Consider joining all columns at once using pd.concat(axis=1) instead. To get a de-fragmented frame, use `newframe = frame.copy()`\n",
      "  data[f'elapsed_time_{i}'] = (data[col] - data[time_columns[0]]).dt.total_seconds() / 3600\n",
      "/Users/samsongourevitch/Documents/Chlamy_Project_Github/Chlamy_project/Scripts/Data_v2.py:199: PerformanceWarning: DataFrame is highly fragmented.  This is usually the result of calling `frame.insert` many times, which has poor performance.  Consider joining all columns at once using pd.concat(axis=1) instead. To get a de-fragmented frame, use `newframe = frame.copy()`\n",
      "  data[f'elapsed_time_{i}'] = (data[col] - data[time_columns[0]]).dt.total_seconds() / 3600\n",
      "/Users/samsongourevitch/Documents/Chlamy_Project_Github/Chlamy_project/Scripts/Data_v2.py:199: PerformanceWarning: DataFrame is highly fragmented.  This is usually the result of calling `frame.insert` many times, which has poor performance.  Consider joining all columns at once using pd.concat(axis=1) instead. To get a de-fragmented frame, use `newframe = frame.copy()`\n",
      "  data[f'elapsed_time_{i}'] = (data[col] - data[time_columns[0]]).dt.total_seconds() / 3600\n",
      "/Users/samsongourevitch/Documents/Chlamy_Project_Github/Chlamy_project/Scripts/Data_v2.py:199: PerformanceWarning: DataFrame is highly fragmented.  This is usually the result of calling `frame.insert` many times, which has poor performance.  Consider joining all columns at once using pd.concat(axis=1) instead. To get a de-fragmented frame, use `newframe = frame.copy()`\n",
      "  data[f'elapsed_time_{i}'] = (data[col] - data[time_columns[0]]).dt.total_seconds() / 3600\n",
      "/Users/samsongourevitch/Documents/Chlamy_Project_Github/Chlamy_project/Scripts/Data_v2.py:199: PerformanceWarning: DataFrame is highly fragmented.  This is usually the result of calling `frame.insert` many times, which has poor performance.  Consider joining all columns at once using pd.concat(axis=1) instead. To get a de-fragmented frame, use `newframe = frame.copy()`\n",
      "  data[f'elapsed_time_{i}'] = (data[col] - data[time_columns[0]]).dt.total_seconds() / 3600\n",
      "/Users/samsongourevitch/Documents/Chlamy_Project_Github/Chlamy_project/Scripts/Data_v2.py:199: PerformanceWarning: DataFrame is highly fragmented.  This is usually the result of calling `frame.insert` many times, which has poor performance.  Consider joining all columns at once using pd.concat(axis=1) instead. To get a de-fragmented frame, use `newframe = frame.copy()`\n",
      "  data[f'elapsed_time_{i}'] = (data[col] - data[time_columns[0]]).dt.total_seconds() / 3600\n",
      "/Users/samsongourevitch/Documents/Chlamy_Project_Github/Chlamy_project/Scripts/Data_v2.py:199: PerformanceWarning: DataFrame is highly fragmented.  This is usually the result of calling `frame.insert` many times, which has poor performance.  Consider joining all columns at once using pd.concat(axis=1) instead. To get a de-fragmented frame, use `newframe = frame.copy()`\n",
      "  data[f'elapsed_time_{i}'] = (data[col] - data[time_columns[0]]).dt.total_seconds() / 3600\n",
      "/Users/samsongourevitch/Documents/Chlamy_Project_Github/Chlamy_project/Scripts/Data_v2.py:199: PerformanceWarning: DataFrame is highly fragmented.  This is usually the result of calling `frame.insert` many times, which has poor performance.  Consider joining all columns at once using pd.concat(axis=1) instead. To get a de-fragmented frame, use `newframe = frame.copy()`\n",
      "  data[f'elapsed_time_{i}'] = (data[col] - data[time_columns[0]]).dt.total_seconds() / 3600\n",
      "/Users/samsongourevitch/Documents/Chlamy_Project_Github/Chlamy_project/Scripts/Data_v2.py:199: PerformanceWarning: DataFrame is highly fragmented.  This is usually the result of calling `frame.insert` many times, which has poor performance.  Consider joining all columns at once using pd.concat(axis=1) instead. To get a de-fragmented frame, use `newframe = frame.copy()`\n",
      "  data[f'elapsed_time_{i}'] = (data[col] - data[time_columns[0]]).dt.total_seconds() / 3600\n",
      "/Users/samsongourevitch/Documents/Chlamy_Project_Github/Chlamy_project/Scripts/Data_v2.py:199: PerformanceWarning: DataFrame is highly fragmented.  This is usually the result of calling `frame.insert` many times, which has poor performance.  Consider joining all columns at once using pd.concat(axis=1) instead. To get a de-fragmented frame, use `newframe = frame.copy()`\n",
      "  data[f'elapsed_time_{i}'] = (data[col] - data[time_columns[0]]).dt.total_seconds() / 3600\n",
      "/Users/samsongourevitch/Documents/Chlamy_Project_Github/Chlamy_project/Scripts/Data_v2.py:199: PerformanceWarning: DataFrame is highly fragmented.  This is usually the result of calling `frame.insert` many times, which has poor performance.  Consider joining all columns at once using pd.concat(axis=1) instead. To get a de-fragmented frame, use `newframe = frame.copy()`\n",
      "  data[f'elapsed_time_{i}'] = (data[col] - data[time_columns[0]]).dt.total_seconds() / 3600\n",
      "/Users/samsongourevitch/Documents/Chlamy_Project_Github/Chlamy_project/Scripts/Data_v2.py:199: PerformanceWarning: DataFrame is highly fragmented.  This is usually the result of calling `frame.insert` many times, which has poor performance.  Consider joining all columns at once using pd.concat(axis=1) instead. To get a de-fragmented frame, use `newframe = frame.copy()`\n",
      "  data[f'elapsed_time_{i}'] = (data[col] - data[time_columns[0]]).dt.total_seconds() / 3600\n",
      "/Users/samsongourevitch/Documents/Chlamy_Project_Github/Chlamy_project/Scripts/Data_v2.py:199: PerformanceWarning: DataFrame is highly fragmented.  This is usually the result of calling `frame.insert` many times, which has poor performance.  Consider joining all columns at once using pd.concat(axis=1) instead. To get a de-fragmented frame, use `newframe = frame.copy()`\n",
      "  data[f'elapsed_time_{i}'] = (data[col] - data[time_columns[0]]).dt.total_seconds() / 3600\n",
      "/Users/samsongourevitch/Documents/Chlamy_Project_Github/Chlamy_project/Scripts/Data_v2.py:199: PerformanceWarning: DataFrame is highly fragmented.  This is usually the result of calling `frame.insert` many times, which has poor performance.  Consider joining all columns at once using pd.concat(axis=1) instead. To get a de-fragmented frame, use `newframe = frame.copy()`\n",
      "  data[f'elapsed_time_{i}'] = (data[col] - data[time_columns[0]]).dt.total_seconds() / 3600\n",
      "/Users/samsongourevitch/Documents/Chlamy_Project_Github/Chlamy_project/Scripts/Data_v2.py:199: PerformanceWarning: DataFrame is highly fragmented.  This is usually the result of calling `frame.insert` many times, which has poor performance.  Consider joining all columns at once using pd.concat(axis=1) instead. To get a de-fragmented frame, use `newframe = frame.copy()`\n",
      "  data[f'elapsed_time_{i}'] = (data[col] - data[time_columns[0]]).dt.total_seconds() / 3600\n",
      "/Users/samsongourevitch/Documents/Chlamy_Project_Github/Chlamy_project/Scripts/Data_v2.py:199: PerformanceWarning: DataFrame is highly fragmented.  This is usually the result of calling `frame.insert` many times, which has poor performance.  Consider joining all columns at once using pd.concat(axis=1) instead. To get a de-fragmented frame, use `newframe = frame.copy()`\n",
      "  data[f'elapsed_time_{i}'] = (data[col] - data[time_columns[0]]).dt.total_seconds() / 3600\n",
      "/Users/samsongourevitch/Documents/Chlamy_Project_Github/Chlamy_project/Scripts/Data_v2.py:199: PerformanceWarning: DataFrame is highly fragmented.  This is usually the result of calling `frame.insert` many times, which has poor performance.  Consider joining all columns at once using pd.concat(axis=1) instead. To get a de-fragmented frame, use `newframe = frame.copy()`\n",
      "  data[f'elapsed_time_{i}'] = (data[col] - data[time_columns[0]]).dt.total_seconds() / 3600\n",
      "/Users/samsongourevitch/Documents/Chlamy_Project_Github/Chlamy_project/Scripts/Data_v2.py:199: PerformanceWarning: DataFrame is highly fragmented.  This is usually the result of calling `frame.insert` many times, which has poor performance.  Consider joining all columns at once using pd.concat(axis=1) instead. To get a de-fragmented frame, use `newframe = frame.copy()`\n",
      "  data[f'elapsed_time_{i}'] = (data[col] - data[time_columns[0]]).dt.total_seconds() / 3600\n",
      "/Users/samsongourevitch/Documents/Chlamy_Project_Github/Chlamy_project/Scripts/Data_v2.py:199: PerformanceWarning: DataFrame is highly fragmented.  This is usually the result of calling `frame.insert` many times, which has poor performance.  Consider joining all columns at once using pd.concat(axis=1) instead. To get a de-fragmented frame, use `newframe = frame.copy()`\n",
      "  data[f'elapsed_time_{i}'] = (data[col] - data[time_columns[0]]).dt.total_seconds() / 3600\n",
      "/Users/samsongourevitch/Documents/Chlamy_Project_Github/Chlamy_project/Scripts/Data_v2.py:199: PerformanceWarning: DataFrame is highly fragmented.  This is usually the result of calling `frame.insert` many times, which has poor performance.  Consider joining all columns at once using pd.concat(axis=1) instead. To get a de-fragmented frame, use `newframe = frame.copy()`\n",
      "  data[f'elapsed_time_{i}'] = (data[col] - data[time_columns[0]]).dt.total_seconds() / 3600\n",
      "/Users/samsongourevitch/Documents/Chlamy_Project_Github/Chlamy_project/Scripts/Data_v2.py:199: PerformanceWarning: DataFrame is highly fragmented.  This is usually the result of calling `frame.insert` many times, which has poor performance.  Consider joining all columns at once using pd.concat(axis=1) instead. To get a de-fragmented frame, use `newframe = frame.copy()`\n",
      "  data[f'elapsed_time_{i}'] = (data[col] - data[time_columns[0]]).dt.total_seconds() / 3600\n",
      "/Users/samsongourevitch/Documents/Chlamy_Project_Github/Chlamy_project/Scripts/Data_v2.py:199: PerformanceWarning: DataFrame is highly fragmented.  This is usually the result of calling `frame.insert` many times, which has poor performance.  Consider joining all columns at once using pd.concat(axis=1) instead. To get a de-fragmented frame, use `newframe = frame.copy()`\n",
      "  data[f'elapsed_time_{i}'] = (data[col] - data[time_columns[0]]).dt.total_seconds() / 3600\n",
      "/Users/samsongourevitch/Documents/Chlamy_Project_Github/Chlamy_project/Scripts/Data_v2.py:199: PerformanceWarning: DataFrame is highly fragmented.  This is usually the result of calling `frame.insert` many times, which has poor performance.  Consider joining all columns at once using pd.concat(axis=1) instead. To get a de-fragmented frame, use `newframe = frame.copy()`\n",
      "  data[f'elapsed_time_{i}'] = (data[col] - data[time_columns[0]]).dt.total_seconds() / 3600\n",
      "/Users/samsongourevitch/Documents/Chlamy_Project_Github/Chlamy_project/Scripts/Data_v2.py:199: PerformanceWarning: DataFrame is highly fragmented.  This is usually the result of calling `frame.insert` many times, which has poor performance.  Consider joining all columns at once using pd.concat(axis=1) instead. To get a de-fragmented frame, use `newframe = frame.copy()`\n",
      "  data[f'elapsed_time_{i}'] = (data[col] - data[time_columns[0]]).dt.total_seconds() / 3600\n",
      "/Users/samsongourevitch/Documents/Chlamy_Project_Github/Chlamy_project/Scripts/Data_v2.py:199: PerformanceWarning: DataFrame is highly fragmented.  This is usually the result of calling `frame.insert` many times, which has poor performance.  Consider joining all columns at once using pd.concat(axis=1) instead. To get a de-fragmented frame, use `newframe = frame.copy()`\n",
      "  data[f'elapsed_time_{i}'] = (data[col] - data[time_columns[0]]).dt.total_seconds() / 3600\n",
      "/Users/samsongourevitch/Documents/Chlamy_Project_Github/Chlamy_project/Scripts/Data_v2.py:199: PerformanceWarning: DataFrame is highly fragmented.  This is usually the result of calling `frame.insert` many times, which has poor performance.  Consider joining all columns at once using pd.concat(axis=1) instead. To get a de-fragmented frame, use `newframe = frame.copy()`\n",
      "  data[f'elapsed_time_{i}'] = (data[col] - data[time_columns[0]]).dt.total_seconds() / 3600\n",
      "/Users/samsongourevitch/Documents/Chlamy_Project_Github/Chlamy_project/Scripts/Data_v2.py:199: PerformanceWarning: DataFrame is highly fragmented.  This is usually the result of calling `frame.insert` many times, which has poor performance.  Consider joining all columns at once using pd.concat(axis=1) instead. To get a de-fragmented frame, use `newframe = frame.copy()`\n",
      "  data[f'elapsed_time_{i}'] = (data[col] - data[time_columns[0]]).dt.total_seconds() / 3600\n",
      "/Users/samsongourevitch/Documents/Chlamy_Project_Github/Chlamy_project/Scripts/Data_v2.py:199: PerformanceWarning: DataFrame is highly fragmented.  This is usually the result of calling `frame.insert` many times, which has poor performance.  Consider joining all columns at once using pd.concat(axis=1) instead. To get a de-fragmented frame, use `newframe = frame.copy()`\n",
      "  data[f'elapsed_time_{i}'] = (data[col] - data[time_columns[0]]).dt.total_seconds() / 3600\n",
      "/Users/samsongourevitch/Documents/Chlamy_Project_Github/Chlamy_project/Scripts/Data_v2.py:199: PerformanceWarning: DataFrame is highly fragmented.  This is usually the result of calling `frame.insert` many times, which has poor performance.  Consider joining all columns at once using pd.concat(axis=1) instead. To get a de-fragmented frame, use `newframe = frame.copy()`\n",
      "  data[f'elapsed_time_{i}'] = (data[col] - data[time_columns[0]]).dt.total_seconds() / 3600\n",
      "/Users/samsongourevitch/Documents/Chlamy_Project_Github/Chlamy_project/Scripts/Data_v2.py:199: PerformanceWarning: DataFrame is highly fragmented.  This is usually the result of calling `frame.insert` many times, which has poor performance.  Consider joining all columns at once using pd.concat(axis=1) instead. To get a de-fragmented frame, use `newframe = frame.copy()`\n",
      "  data[f'elapsed_time_{i}'] = (data[col] - data[time_columns[0]]).dt.total_seconds() / 3600\n",
      "/Users/samsongourevitch/Documents/Chlamy_Project_Github/Chlamy_project/Scripts/Data_v2.py:199: PerformanceWarning: DataFrame is highly fragmented.  This is usually the result of calling `frame.insert` many times, which has poor performance.  Consider joining all columns at once using pd.concat(axis=1) instead. To get a de-fragmented frame, use `newframe = frame.copy()`\n",
      "  data[f'elapsed_time_{i}'] = (data[col] - data[time_columns[0]]).dt.total_seconds() / 3600\n",
      "/Users/samsongourevitch/Documents/Chlamy_Project_Github/Chlamy_project/Scripts/Data_v2.py:199: PerformanceWarning: DataFrame is highly fragmented.  This is usually the result of calling `frame.insert` many times, which has poor performance.  Consider joining all columns at once using pd.concat(axis=1) instead. To get a de-fragmented frame, use `newframe = frame.copy()`\n",
      "  data[f'elapsed_time_{i}'] = (data[col] - data[time_columns[0]]).dt.total_seconds() / 3600\n",
      "/Users/samsongourevitch/Documents/Chlamy_Project_Github/Chlamy_project/Scripts/Data_v2.py:199: PerformanceWarning: DataFrame is highly fragmented.  This is usually the result of calling `frame.insert` many times, which has poor performance.  Consider joining all columns at once using pd.concat(axis=1) instead. To get a de-fragmented frame, use `newframe = frame.copy()`\n",
      "  data[f'elapsed_time_{i}'] = (data[col] - data[time_columns[0]]).dt.total_seconds() / 3600\n",
      "/Users/samsongourevitch/Documents/Chlamy_Project_Github/Chlamy_project/Scripts/Data_v2.py:199: PerformanceWarning: DataFrame is highly fragmented.  This is usually the result of calling `frame.insert` many times, which has poor performance.  Consider joining all columns at once using pd.concat(axis=1) instead. To get a de-fragmented frame, use `newframe = frame.copy()`\n",
      "  data[f'elapsed_time_{i}'] = (data[col] - data[time_columns[0]]).dt.total_seconds() / 3600\n",
      "/Users/samsongourevitch/Documents/Chlamy_Project_Github/Chlamy_project/Scripts/Data_v2.py:199: PerformanceWarning: DataFrame is highly fragmented.  This is usually the result of calling `frame.insert` many times, which has poor performance.  Consider joining all columns at once using pd.concat(axis=1) instead. To get a de-fragmented frame, use `newframe = frame.copy()`\n",
      "  data[f'elapsed_time_{i}'] = (data[col] - data[time_columns[0]]).dt.total_seconds() / 3600\n",
      "/Users/samsongourevitch/Documents/Chlamy_Project_Github/Chlamy_project/Scripts/Data_v2.py:199: PerformanceWarning: DataFrame is highly fragmented.  This is usually the result of calling `frame.insert` many times, which has poor performance.  Consider joining all columns at once using pd.concat(axis=1) instead. To get a de-fragmented frame, use `newframe = frame.copy()`\n",
      "  data[f'elapsed_time_{i}'] = (data[col] - data[time_columns[0]]).dt.total_seconds() / 3600\n",
      "/Users/samsongourevitch/Documents/Chlamy_Project_Github/Chlamy_project/Scripts/Data_v2.py:199: PerformanceWarning: DataFrame is highly fragmented.  This is usually the result of calling `frame.insert` many times, which has poor performance.  Consider joining all columns at once using pd.concat(axis=1) instead. To get a de-fragmented frame, use `newframe = frame.copy()`\n",
      "  data[f'elapsed_time_{i}'] = (data[col] - data[time_columns[0]]).dt.total_seconds() / 3600\n",
      "/Users/samsongourevitch/Documents/Chlamy_Project_Github/Chlamy_project/Scripts/Data_v2.py:199: PerformanceWarning: DataFrame is highly fragmented.  This is usually the result of calling `frame.insert` many times, which has poor performance.  Consider joining all columns at once using pd.concat(axis=1) instead. To get a de-fragmented frame, use `newframe = frame.copy()`\n",
      "  data[f'elapsed_time_{i}'] = (data[col] - data[time_columns[0]]).dt.total_seconds() / 3600\n",
      "/Users/samsongourevitch/Documents/Chlamy_Project_Github/Chlamy_project/Scripts/Data_v2.py:199: PerformanceWarning: DataFrame is highly fragmented.  This is usually the result of calling `frame.insert` many times, which has poor performance.  Consider joining all columns at once using pd.concat(axis=1) instead. To get a de-fragmented frame, use `newframe = frame.copy()`\n",
      "  data[f'elapsed_time_{i}'] = (data[col] - data[time_columns[0]]).dt.total_seconds() / 3600\n",
      "/Users/samsongourevitch/Documents/Chlamy_Project_Github/Chlamy_project/Scripts/Data_v2.py:199: PerformanceWarning: DataFrame is highly fragmented.  This is usually the result of calling `frame.insert` many times, which has poor performance.  Consider joining all columns at once using pd.concat(axis=1) instead. To get a de-fragmented frame, use `newframe = frame.copy()`\n",
      "  data[f'elapsed_time_{i}'] = (data[col] - data[time_columns[0]]).dt.total_seconds() / 3600\n",
      "/Users/samsongourevitch/Documents/Chlamy_Project_Github/Chlamy_project/Scripts/Data_v2.py:199: PerformanceWarning: DataFrame is highly fragmented.  This is usually the result of calling `frame.insert` many times, which has poor performance.  Consider joining all columns at once using pd.concat(axis=1) instead. To get a de-fragmented frame, use `newframe = frame.copy()`\n",
      "  data[f'elapsed_time_{i}'] = (data[col] - data[time_columns[0]]).dt.total_seconds() / 3600\n",
      "/Users/samsongourevitch/Documents/Chlamy_Project_Github/Chlamy_project/Scripts/Data_v2.py:199: PerformanceWarning: DataFrame is highly fragmented.  This is usually the result of calling `frame.insert` many times, which has poor performance.  Consider joining all columns at once using pd.concat(axis=1) instead. To get a de-fragmented frame, use `newframe = frame.copy()`\n",
      "  data[f'elapsed_time_{i}'] = (data[col] - data[time_columns[0]]).dt.total_seconds() / 3600\n",
      "/Users/samsongourevitch/Documents/Chlamy_Project_Github/Chlamy_project/Scripts/Data_v2.py:199: PerformanceWarning: DataFrame is highly fragmented.  This is usually the result of calling `frame.insert` many times, which has poor performance.  Consider joining all columns at once using pd.concat(axis=1) instead. To get a de-fragmented frame, use `newframe = frame.copy()`\n",
      "  data[f'elapsed_time_{i}'] = (data[col] - data[time_columns[0]]).dt.total_seconds() / 3600\n",
      "/Users/samsongourevitch/Documents/Chlamy_Project_Github/Chlamy_project/Scripts/Data_v2.py:199: PerformanceWarning: DataFrame is highly fragmented.  This is usually the result of calling `frame.insert` many times, which has poor performance.  Consider joining all columns at once using pd.concat(axis=1) instead. To get a de-fragmented frame, use `newframe = frame.copy()`\n",
      "  data[f'elapsed_time_{i}'] = (data[col] - data[time_columns[0]]).dt.total_seconds() / 3600\n",
      "/Users/samsongourevitch/Documents/Chlamy_Project_Github/Chlamy_project/Scripts/Data_v2.py:199: PerformanceWarning: DataFrame is highly fragmented.  This is usually the result of calling `frame.insert` many times, which has poor performance.  Consider joining all columns at once using pd.concat(axis=1) instead. To get a de-fragmented frame, use `newframe = frame.copy()`\n",
      "  data[f'elapsed_time_{i}'] = (data[col] - data[time_columns[0]]).dt.total_seconds() / 3600\n",
      "/Users/samsongourevitch/Documents/Chlamy_Project_Github/Chlamy_project/Scripts/Data_v2.py:199: PerformanceWarning: DataFrame is highly fragmented.  This is usually the result of calling `frame.insert` many times, which has poor performance.  Consider joining all columns at once using pd.concat(axis=1) instead. To get a de-fragmented frame, use `newframe = frame.copy()`\n",
      "  data[f'elapsed_time_{i}'] = (data[col] - data[time_columns[0]]).dt.total_seconds() / 3600\n",
      "/Users/samsongourevitch/Documents/Chlamy_Project_Github/Chlamy_project/Scripts/Data_v2.py:199: PerformanceWarning: DataFrame is highly fragmented.  This is usually the result of calling `frame.insert` many times, which has poor performance.  Consider joining all columns at once using pd.concat(axis=1) instead. To get a de-fragmented frame, use `newframe = frame.copy()`\n",
      "  data[f'elapsed_time_{i}'] = (data[col] - data[time_columns[0]]).dt.total_seconds() / 3600\n",
      "/Users/samsongourevitch/Documents/Chlamy_Project_Github/Chlamy_project/Scripts/Data_v2.py:199: PerformanceWarning: DataFrame is highly fragmented.  This is usually the result of calling `frame.insert` many times, which has poor performance.  Consider joining all columns at once using pd.concat(axis=1) instead. To get a de-fragmented frame, use `newframe = frame.copy()`\n",
      "  data[f'elapsed_time_{i}'] = (data[col] - data[time_columns[0]]).dt.total_seconds() / 3600\n",
      "/Users/samsongourevitch/Documents/Chlamy_Project_Github/Chlamy_project/Scripts/Data_v2.py:199: PerformanceWarning: DataFrame is highly fragmented.  This is usually the result of calling `frame.insert` many times, which has poor performance.  Consider joining all columns at once using pd.concat(axis=1) instead. To get a de-fragmented frame, use `newframe = frame.copy()`\n",
      "  data[f'elapsed_time_{i}'] = (data[col] - data[time_columns[0]]).dt.total_seconds() / 3600\n",
      "/Users/samsongourevitch/Documents/Chlamy_Project_Github/Chlamy_project/Scripts/Data_v2.py:199: PerformanceWarning: DataFrame is highly fragmented.  This is usually the result of calling `frame.insert` many times, which has poor performance.  Consider joining all columns at once using pd.concat(axis=1) instead. To get a de-fragmented frame, use `newframe = frame.copy()`\n",
      "  data[f'elapsed_time_{i}'] = (data[col] - data[time_columns[0]]).dt.total_seconds() / 3600\n",
      "/Users/samsongourevitch/Documents/Chlamy_Project_Github/Chlamy_project/Scripts/Data_v2.py:199: PerformanceWarning: DataFrame is highly fragmented.  This is usually the result of calling `frame.insert` many times, which has poor performance.  Consider joining all columns at once using pd.concat(axis=1) instead. To get a de-fragmented frame, use `newframe = frame.copy()`\n",
      "  data[f'elapsed_time_{i}'] = (data[col] - data[time_columns[0]]).dt.total_seconds() / 3600\n",
      "/Users/samsongourevitch/Documents/Chlamy_Project_Github/Chlamy_project/Scripts/Data_v2.py:199: PerformanceWarning: DataFrame is highly fragmented.  This is usually the result of calling `frame.insert` many times, which has poor performance.  Consider joining all columns at once using pd.concat(axis=1) instead. To get a de-fragmented frame, use `newframe = frame.copy()`\n",
      "  data[f'elapsed_time_{i}'] = (data[col] - data[time_columns[0]]).dt.total_seconds() / 3600\n",
      "/Users/samsongourevitch/Documents/Chlamy_Project_Github/Chlamy_project/Scripts/Data_v2.py:199: PerformanceWarning: DataFrame is highly fragmented.  This is usually the result of calling `frame.insert` many times, which has poor performance.  Consider joining all columns at once using pd.concat(axis=1) instead. To get a de-fragmented frame, use `newframe = frame.copy()`\n",
      "  data[f'elapsed_time_{i}'] = (data[col] - data[time_columns[0]]).dt.total_seconds() / 3600\n",
      "/Users/samsongourevitch/Documents/Chlamy_Project_Github/Chlamy_project/Scripts/Data_v2.py:199: PerformanceWarning: DataFrame is highly fragmented.  This is usually the result of calling `frame.insert` many times, which has poor performance.  Consider joining all columns at once using pd.concat(axis=1) instead. To get a de-fragmented frame, use `newframe = frame.copy()`\n",
      "  data[f'elapsed_time_{i}'] = (data[col] - data[time_columns[0]]).dt.total_seconds() / 3600\n",
      "/Users/samsongourevitch/Documents/Chlamy_Project_Github/Chlamy_project/Scripts/Data_v2.py:199: PerformanceWarning: DataFrame is highly fragmented.  This is usually the result of calling `frame.insert` many times, which has poor performance.  Consider joining all columns at once using pd.concat(axis=1) instead. To get a de-fragmented frame, use `newframe = frame.copy()`\n",
      "  data[f'elapsed_time_{i}'] = (data[col] - data[time_columns[0]]).dt.total_seconds() / 3600\n",
      "/Users/samsongourevitch/Documents/Chlamy_Project_Github/Chlamy_project/Scripts/Data_v2.py:199: PerformanceWarning: DataFrame is highly fragmented.  This is usually the result of calling `frame.insert` many times, which has poor performance.  Consider joining all columns at once using pd.concat(axis=1) instead. To get a de-fragmented frame, use `newframe = frame.copy()`\n",
      "  data[f'elapsed_time_{i}'] = (data[col] - data[time_columns[0]]).dt.total_seconds() / 3600\n",
      "/Users/samsongourevitch/Documents/Chlamy_Project_Github/Chlamy_project/Scripts/Data_v2.py:199: PerformanceWarning: DataFrame is highly fragmented.  This is usually the result of calling `frame.insert` many times, which has poor performance.  Consider joining all columns at once using pd.concat(axis=1) instead. To get a de-fragmented frame, use `newframe = frame.copy()`\n",
      "  data[f'elapsed_time_{i}'] = (data[col] - data[time_columns[0]]).dt.total_seconds() / 3600\n",
      "/Users/samsongourevitch/Documents/Chlamy_Project_Github/Chlamy_project/Scripts/Data_v2.py:199: PerformanceWarning: DataFrame is highly fragmented.  This is usually the result of calling `frame.insert` many times, which has poor performance.  Consider joining all columns at once using pd.concat(axis=1) instead. To get a de-fragmented frame, use `newframe = frame.copy()`\n",
      "  data[f'elapsed_time_{i}'] = (data[col] - data[time_columns[0]]).dt.total_seconds() / 3600\n",
      "/Users/samsongourevitch/Documents/Chlamy_Project_Github/Chlamy_project/Scripts/Data_v2.py:199: PerformanceWarning: DataFrame is highly fragmented.  This is usually the result of calling `frame.insert` many times, which has poor performance.  Consider joining all columns at once using pd.concat(axis=1) instead. To get a de-fragmented frame, use `newframe = frame.copy()`\n",
      "  data[f'elapsed_time_{i}'] = (data[col] - data[time_columns[0]]).dt.total_seconds() / 3600\n",
      "/Users/samsongourevitch/Documents/Chlamy_Project_Github/Chlamy_project/Scripts/Data_v2.py:199: PerformanceWarning: DataFrame is highly fragmented.  This is usually the result of calling `frame.insert` many times, which has poor performance.  Consider joining all columns at once using pd.concat(axis=1) instead. To get a de-fragmented frame, use `newframe = frame.copy()`\n",
      "  data[f'elapsed_time_{i}'] = (data[col] - data[time_columns[0]]).dt.total_seconds() / 3600\n",
      "/Users/samsongourevitch/Documents/Chlamy_Project_Github/Chlamy_project/Scripts/Data_v2.py:199: PerformanceWarning: DataFrame is highly fragmented.  This is usually the result of calling `frame.insert` many times, which has poor performance.  Consider joining all columns at once using pd.concat(axis=1) instead. To get a de-fragmented frame, use `newframe = frame.copy()`\n",
      "  data[f'elapsed_time_{i}'] = (data[col] - data[time_columns[0]]).dt.total_seconds() / 3600\n",
      "/Users/samsongourevitch/Documents/Chlamy_Project_Github/Chlamy_project/Scripts/Data_v2.py:199: PerformanceWarning: DataFrame is highly fragmented.  This is usually the result of calling `frame.insert` many times, which has poor performance.  Consider joining all columns at once using pd.concat(axis=1) instead. To get a de-fragmented frame, use `newframe = frame.copy()`\n",
      "  data[f'elapsed_time_{i}'] = (data[col] - data[time_columns[0]]).dt.total_seconds() / 3600\n",
      "/Users/samsongourevitch/Documents/Chlamy_Project_Github/Chlamy_project/Scripts/Data_v2.py:199: PerformanceWarning: DataFrame is highly fragmented.  This is usually the result of calling `frame.insert` many times, which has poor performance.  Consider joining all columns at once using pd.concat(axis=1) instead. To get a de-fragmented frame, use `newframe = frame.copy()`\n",
      "  data[f'elapsed_time_{i}'] = (data[col] - data[time_columns[0]]).dt.total_seconds() / 3600\n",
      "/Users/samsongourevitch/Documents/Chlamy_Project_Github/Chlamy_project/Scripts/Data_v2.py:199: PerformanceWarning: DataFrame is highly fragmented.  This is usually the result of calling `frame.insert` many times, which has poor performance.  Consider joining all columns at once using pd.concat(axis=1) instead. To get a de-fragmented frame, use `newframe = frame.copy()`\n",
      "  data[f'elapsed_time_{i}'] = (data[col] - data[time_columns[0]]).dt.total_seconds() / 3600\n",
      "/Users/samsongourevitch/Documents/Chlamy_Project_Github/Chlamy_project/Scripts/Data_v2.py:202: PerformanceWarning: DataFrame is highly fragmented.  This is usually the result of calling `frame.insert` many times, which has poor performance.  Consider joining all columns at once using pd.concat(axis=1) instead. To get a de-fragmented frame, use `newframe = frame.copy()`\n",
      "  data['well_id_numeric'] = pd.factorize(data['well_id'])[0]\n",
      "/Users/samsongourevitch/Documents/Chlamy_Project_Github/Chlamy_project/Scripts/Data_v2.py:205: PerformanceWarning: DataFrame is highly fragmented.  This is usually the result of calling `frame.insert` many times, which has poor performance.  Consider joining all columns at once using pd.concat(axis=1) instead. To get a de-fragmented frame, use `newframe = frame.copy()`\n",
      "  data['mean_y2'] = data.filter(like='y2_').mean(axis=1)\n",
      "/Users/samsongourevitch/Documents/Chlamy_Project_Github/Chlamy_project/Scripts/Data_v2.py:206: PerformanceWarning: DataFrame is highly fragmented.  This is usually the result of calling `frame.insert` many times, which has poor performance.  Consider joining all columns at once using pd.concat(axis=1) instead. To get a de-fragmented frame, use `newframe = frame.copy()`\n",
      "  data['mean_ynpq'] = data.filter(like='ynpq_').mean(axis=1)\n"
     ]
    }
   ],
   "source": [
    "data = Data_v2.get_format_data_new_database(phase='phase1')"
   ]
  },
  {
   "cell_type": "code",
   "execution_count": 183,
   "metadata": {},
   "outputs": [
    {
     "data": {
      "text/plain": [
       "plate\n",
       "99    3064\n",
       "2     2298\n",
       "20    2298\n",
       "1     2298\n",
       "23    2298\n",
       "22    2298\n",
       "21    2298\n",
       "18    2298\n",
       "8     2298\n",
       "16    2298\n",
       "15    2298\n",
       "14    2298\n",
       "13    2298\n",
       "11    2298\n",
       "10    2298\n",
       "9     2298\n",
       "3     2298\n",
       "24    2010\n",
       "12    1915\n",
       "17    1915\n",
       "7     1915\n",
       "6     1915\n",
       "5     1915\n",
       "4     1532\n",
       "Name: count, dtype: int64"
      ]
     },
     "execution_count": 183,
     "metadata": {},
     "output_type": "execute_result"
    }
   ],
   "source": [
    "data['plate'].value_counts()"
   ]
  },
  {
   "cell_type": "markdown",
   "metadata": {},
   "source": [
    "## Sanity checks"
   ]
  },
  {
   "cell_type": "markdown",
   "metadata": {},
   "source": [
    "### Checking the evolution of $\\frac{F_v}{F_m}$ to assess consistency of measurements over time"
   ]
  },
  {
   "cell_type": "code",
   "execution_count": 184,
   "metadata": {},
   "outputs": [
    {
     "data": {
      "text/plain": [
       "<Axes: title={'center': 'Evolution of fv_fm Over Time (Daily Aggregation)'}, xlabel='Date', ylabel='fv_fm Value'>"
      ]
     },
     "execution_count": 184,
     "metadata": {},
     "output_type": "execute_result"
    },
    {
     "data": {
      "image/png": "[encoded data removed]",
      "text/plain": [
       "<Figure size 640x480 with 1 Axes>"
      ]
     },
     "metadata": {},
     "output_type": "display_data"
    }
   ],
   "source": [
    "# Group by date and aggregate fv_fm values\n",
    "daily_aggregated = data.groupby('start_date')['fv_fm'].mean()\n",
    "\n",
    "# Plot the aggregated fv_fm values over time\n",
    "daily_aggregated.plot(kind='line', xlabel='Date', ylabel='fv_fm Value', title='Evolution of fv_fm Over Time (Daily Aggregation)')\n"
   ]
  },
  {
   "cell_type": "code",
   "execution_count": 138,
   "metadata": {},
   "outputs": [],
   "source": [
    "data_WT_not_99 = data[(data['mutant_ID'] == 'WT') & (data['plate'] != '99')]"
   ]
  },
  {
   "cell_type": "code",
   "execution_count": 139,
   "metadata": {},
   "outputs": [
    {
     "data": {
      "text/plain": [
       "49387    0.702605\n",
       "49451    0.692578\n",
       "49495    0.723706\n",
       "Name: fv_fm, dtype: float32"
      ]
     },
     "execution_count": 139,
     "metadata": {},
     "output_type": "execute_result"
    }
   ],
   "source": [
    "data[(data['mutant_ID'] == 'WT') & (data['plate'] == '24') & (data['light_regime'] == '20h_HL')]['fv_fm']"
   ]
  },
  {
   "cell_type": "code",
   "execution_count": 140,
   "metadata": {},
   "outputs": [
    {
     "data": {
      "text/plain": [
       "49404    0.710793\n",
       "49502    0.717657\n",
       "49526    0.757363\n",
       "49531    0.730324\n",
       "49533    0.725291\n",
       "49538    0.691019\n",
       "Name: fv_fm, dtype: float32"
      ]
     },
     "execution_count": 140,
     "metadata": {},
     "output_type": "execute_result"
    }
   ],
   "source": [
    "data[(data['mutant_ID'] == 'CC4533') & (data['plate'] == '24') & (data['light_regime'] == '20h_HL')]['fv_fm']"
   ]
  },
  {
   "cell_type": "code",
   "execution_count": 141,
   "metadata": {},
   "outputs": [
    {
     "data": {
      "image/png": "[encoded data removed]",
      "text/plain": [
       "<Figure size 640x480 with 1 Axes>"
      ]
     },
     "metadata": {},
     "output_type": "display_data"
    }
   ],
   "source": [
    "Data_analysis_func.plot_y2(data[(data['mutant_ID'] == 'WT') & (data['plate'] == '5') & (data['light_regime'] == '20h_HL')], limit=[0, 0.4])"
   ]
  },
  {
   "cell_type": "code",
   "execution_count": 84,
   "metadata": {},
   "outputs": [],
   "source": [
    "min = data[(data['plate'] == '24')]['start_date'].min()\n",
    "max = data[(data['plate'] == '24')]['start_date'].max()"
   ]
  },
  {
   "cell_type": "code",
   "execution_count": 85,
   "metadata": {},
   "outputs": [
    {
     "data": {
      "text/plain": [
       "Timestamp('2024-04-26 00:00:00')"
      ]
     },
     "execution_count": 85,
     "metadata": {},
     "output_type": "execute_result"
    }
   ],
   "source": [
    "min"
   ]
  },
  {
   "cell_type": "code",
   "execution_count": 142,
   "metadata": {},
   "outputs": [
    {
     "data": {
      "text/plain": [
       "<matplotlib.legend.Legend at 0x2e2083550>"
      ]
     },
     "execution_count": 142,
     "metadata": {},
     "output_type": "execute_result"
    },
    {
     "data": {
      "image/png": "[encoded data removed]",
      "text/plain": [
       "<Figure size 640x480 with 1 Axes>"
      ]
     },
     "metadata": {},
     "output_type": "display_data"
    }
   ],
   "source": [
    "# daily_aggregated_WT = data_WT_not_99[data_WT_not_99['light_regime'] == '20h_HL'].groupby('start_date')['mean_y2'].mean()\n",
    "daily_aggregated_WT = data_WT_not_99.groupby('start_date')['fv_fm'].mean()\n",
    "\n",
    "daily_aggregated_WT.plot(kind='line', xlabel='Date', ylabel='WT fv_fm Value', title='Evolution of WT fv_fm Over Time')\n",
    "\n",
    "# get the min and max start date of plate 24\n",
    "min = data[(data['plate'] == '24')]['start_date'].min()\n",
    "max = data[(data['plate'] == '24')]['start_date'].max()\n",
    "\n",
    "# draw vertical lines at the min and max start date of plate 24\n",
    "plt.axvline(min, color='r', linestyle='--')\n",
    "plt.axvline(max, color='r', linestyle='--', label='Start and end date of Plate 24 (RTL)')\n",
    "\n",
    "# draw a horizontal line at the mean fv_fm value of plate 24\n",
    "plt.axhline(data_WT_not_99[data_WT_not_99['plate'] != '24']['fv_fm'].mean(), color='g', linestyle='--', label='Mean fv_fm value except Plate 24 (RTL)')\n",
    "\n",
    "# add a legend\n",
    "plt.legend()"
   ]
  },
  {
   "cell_type": "markdown",
   "metadata": {},
   "source": [
    "### Checking the distribution of $\\frac{F_v}{F_m}$ in the WT plate"
   ]
  },
  {
   "cell_type": "code",
   "execution_count": 181,
   "metadata": {},
   "outputs": [],
   "source": [
    "data_WT = data[data['mutant_ID'] == 'WT']"
   ]
  },
  {
   "cell_type": "code",
   "execution_count": 182,
   "metadata": {},
   "outputs": [
    {
     "data": {
      "text/plain": [
       "measurement\n",
       "M5    832\n",
       "M1    823\n",
       "M6    467\n",
       "M4    446\n",
       "M2    446\n",
       "M3    443\n",
       "Name: count, dtype: int64"
      ]
     },
     "execution_count": 182,
     "metadata": {},
     "output_type": "execute_result"
    }
   ],
   "source": [
    "data_WT['measurement'].value_counts()"
   ]
  },
  {
   "cell_type": "code",
   "execution_count": 152,
   "metadata": {},
   "outputs": [],
   "source": [
    "data_WT_without_M6 = data_WT[(data_WT['measurement'] != 'M6') & (data_WT['plate'] != '24')]"
   ]
  },
  {
   "cell_type": "code",
   "execution_count": 146,
   "metadata": {},
   "outputs": [
    {
     "data": {
      "text/plain": [
       "0.3454350873351761"
      ]
     },
     "execution_count": 146,
     "metadata": {},
     "output_type": "execute_result"
    }
   ],
   "source": [
    "data_WT_without_M6['mean_y2'].mean()"
   ]
  },
  {
   "cell_type": "code",
   "execution_count": 147,
   "metadata": {},
   "outputs": [],
   "source": [
    "data_WT_M6 = data_WT[data_WT['measurement'] == 'M6']"
   ]
  },
  {
   "cell_type": "code",
   "execution_count": 148,
   "metadata": {},
   "outputs": [
    {
     "data": {
      "text/plain": [
       "0.40134056581088345"
      ]
     },
     "execution_count": 148,
     "metadata": {},
     "output_type": "execute_result"
    }
   ],
   "source": [
    "data_WT_M6['mean_y2'].mean()"
   ]
  },
  {
   "cell_type": "code",
   "execution_count": 153,
   "metadata": {},
   "outputs": [
    {
     "data": {
      "text/plain": [
       "Text(0.5, 1.0, 'Histogram of fv_fm values for WT')"
      ]
     },
     "execution_count": 153,
     "metadata": {},
     "output_type": "execute_result"
    },
    {
     "data": {
      "image/png": "[encoded data removed]",
      "text/plain": [
       "<Figure size 640x480 with 1 Axes>"
      ]
     },
     "metadata": {},
     "output_type": "display_data"
    }
   ],
   "source": [
    "plt.hist(data_WT['fv_fm'], bins=20)\n",
    "plt.title('Histogram of fv_fm values for WT')"
   ]
  },
  {
   "cell_type": "code",
   "execution_count": 154,
   "metadata": {},
   "outputs": [
    {
     "data": {
      "text/plain": [
       "plate\n",
       "99    2681\n",
       "14      15\n",
       "1       15\n",
       "23      15\n",
       "22      15\n",
       "21      15\n",
       "18      15\n",
       "8       15\n",
       "16      15\n",
       "15      15\n",
       "20      15\n",
       "11      15\n",
       "10      15\n",
       "3       15\n",
       "2       12\n",
       "12      12\n",
       "9       12\n",
       "6       12\n",
       "5       12\n",
       "13      12\n",
       "7        9\n",
       "17       9\n",
       "4        9\n",
       "Name: count, dtype: int64"
      ]
     },
     "execution_count": 154,
     "metadata": {},
     "output_type": "execute_result"
    }
   ],
   "source": [
    "data_WT_without_M6['plate'].value_counts()"
   ]
  },
  {
   "cell_type": "code",
   "execution_count": 188,
   "metadata": {},
   "outputs": [
    {
     "data": {
      "text/plain": [
       "Text(0.5, 1.0, 'Histogram of fv_fm values for WT without M6')"
      ]
     },
     "execution_count": 188,
     "metadata": {},
     "output_type": "execute_result"
    },
    {
     "data": {
      "image/png": "[encoded data removed]",
      "text/plain": [
       "<Figure size 640x480 with 1 Axes>"
      ]
     },
     "metadata": {},
     "output_type": "display_data"
    }
   ],
   "source": [
    "plt.hist(data_WT[~((data_WT['measurement'] == 'M6') & (data_WT['plate'] == '99'))]['fv_fm'], bins=20)\n",
    "plt.title('Histogram of fv_fm values for WT without M6')"
   ]
  },
  {
   "cell_type": "code",
   "execution_count": 189,
   "metadata": {},
   "outputs": [
    {
     "data": {
      "text/plain": [
       "<Axes: title={'center': 'Average fv_fm Value by Measurement Type'}, xlabel='Measurement Type', ylabel='fv_fm Value'>"
      ]
     },
     "execution_count": 189,
     "metadata": {},
     "output_type": "execute_result"
    },
    {
     "data": {
      "image/png": "[encoded data removed]",
      "text/plain": [
       "<Figure size 640x480 with 1 Axes>"
      ]
     },
     "metadata": {},
     "output_type": "display_data"
    }
   ],
   "source": [
    "# Group by measurement type\n",
    "\n",
    "data_grouped = data.groupby('measurement')['fv_fm'].mean()\n",
    "data_grouped.plot(kind='bar', xlabel='Measurement Type', ylabel='fv_fm Value', title='Average fv_fm Value by Measurement Type')"
   ]
  },
  {
   "cell_type": "code",
   "execution_count": 180,
   "metadata": {},
   "outputs": [
    {
     "data": {
      "text/plain": [
       "<Axes: title={'center': 'Average WT fv_fm Value by Measurement Type'}, xlabel='Measurement Type', ylabel='WT fv_fm Value'>"
      ]
     },
     "execution_count": 180,
     "metadata": {},
     "output_type": "execute_result"
    },
    {
     "data": {
      "image/png": "[encoded data removed]",
      "text/plain": [
       "<Figure size 640x480 with 1 Axes>"
      ]
     },
     "metadata": {},
     "output_type": "display_data"
    }
   ],
   "source": [
    "# Group by measurement type\n",
    "\n",
    "data_grouped_WT = data_WT.groupby('measurement')['fv_fm'].mean()\n",
    "data_grouped_WT.plot(kind='bar', xlabel='Measurement Type', ylabel='WT fv_fm Value', title='Average WT fv_fm Value by Measurement Type')"
   ]
  },
  {
   "cell_type": "code",
   "execution_count": 133,
   "metadata": {},
   "outputs": [
    {
     "data": {
      "text/html": [
       "<div>\n",
       "<style scoped>\n",
       "    .dataframe tbody tr th:only-of-type {\n",
       "        vertical-align: middle;\n",
       "    }\n",
       "\n",
       "    .dataframe tbody tr th {\n",
       "        vertical-align: top;\n",
       "    }\n",
       "\n",
       "    .dataframe thead th {\n",
       "        text-align: right;\n",
       "    }\n",
       "</style>\n",
       "<table border=\"1\" class=\"dataframe\">\n",
       "  <thead>\n",
       "    <tr style=\"text-align: right;\">\n",
       "      <th></th>\n",
       "      <th>plate</th>\n",
       "      <th>measurement</th>\n",
       "      <th>start_date</th>\n",
       "      <th>light_regime</th>\n",
       "      <th>dark_threshold</th>\n",
       "      <th>light_threshold</th>\n",
       "      <th>num_frames</th>\n",
       "      <th>i</th>\n",
       "      <th>j</th>\n",
       "      <th>fv_fm</th>\n",
       "      <th>...</th>\n",
       "      <th>elapsed_time_84</th>\n",
       "      <th>elapsed_time_85</th>\n",
       "      <th>elapsed_time_86</th>\n",
       "      <th>elapsed_time_87</th>\n",
       "      <th>elapsed_time_88</th>\n",
       "      <th>elapsed_time_89</th>\n",
       "      <th>well_id_numeric</th>\n",
       "      <th>mean_y2</th>\n",
       "      <th>mean_ynpq</th>\n",
       "      <th>GO</th>\n",
       "    </tr>\n",
       "  </thead>\n",
       "  <tbody>\n",
       "    <tr>\n",
       "      <th>0</th>\n",
       "      <td>99</td>\n",
       "      <td>M1</td>\n",
       "      <td>2023-10-12</td>\n",
       "      <td>1min-1min</td>\n",
       "      <td>17.249313</td>\n",
       "      <td>25.001962</td>\n",
       "      <td>164</td>\n",
       "      <td>0</td>\n",
       "      <td>1</td>\n",
       "      <td>0.616146</td>\n",
       "      <td>...</td>\n",
       "      <td>NaN</td>\n",
       "      <td>NaN</td>\n",
       "      <td>NaN</td>\n",
       "      <td>NaN</td>\n",
       "      <td>NaN</td>\n",
       "      <td>NaN</td>\n",
       "      <td>0</td>\n",
       "      <td>0.363719</td>\n",
       "      <td>0.256794</td>\n",
       "      <td>[]</td>\n",
       "    </tr>\n",
       "    <tr>\n",
       "      <th>1</th>\n",
       "      <td>99</td>\n",
       "      <td>M1</td>\n",
       "      <td>2023-10-12</td>\n",
       "      <td>1min-1min</td>\n",
       "      <td>17.249313</td>\n",
       "      <td>25.001962</td>\n",
       "      <td>164</td>\n",
       "      <td>0</td>\n",
       "      <td>2</td>\n",
       "      <td>0.607132</td>\n",
       "      <td>...</td>\n",
       "      <td>NaN</td>\n",
       "      <td>NaN</td>\n",
       "      <td>NaN</td>\n",
       "      <td>NaN</td>\n",
       "      <td>NaN</td>\n",
       "      <td>NaN</td>\n",
       "      <td>1</td>\n",
       "      <td>0.356856</td>\n",
       "      <td>0.253412</td>\n",
       "      <td>[]</td>\n",
       "    </tr>\n",
       "    <tr>\n",
       "      <th>2</th>\n",
       "      <td>99</td>\n",
       "      <td>M1</td>\n",
       "      <td>2023-10-12</td>\n",
       "      <td>1min-1min</td>\n",
       "      <td>17.249313</td>\n",
       "      <td>25.001962</td>\n",
       "      <td>164</td>\n",
       "      <td>0</td>\n",
       "      <td>3</td>\n",
       "      <td>0.618476</td>\n",
       "      <td>...</td>\n",
       "      <td>NaN</td>\n",
       "      <td>NaN</td>\n",
       "      <td>NaN</td>\n",
       "      <td>NaN</td>\n",
       "      <td>NaN</td>\n",
       "      <td>NaN</td>\n",
       "      <td>2</td>\n",
       "      <td>0.348922</td>\n",
       "      <td>0.255790</td>\n",
       "      <td>[]</td>\n",
       "    </tr>\n",
       "    <tr>\n",
       "      <th>3</th>\n",
       "      <td>99</td>\n",
       "      <td>M1</td>\n",
       "      <td>2023-10-12</td>\n",
       "      <td>1min-1min</td>\n",
       "      <td>17.249313</td>\n",
       "      <td>25.001962</td>\n",
       "      <td>164</td>\n",
       "      <td>0</td>\n",
       "      <td>4</td>\n",
       "      <td>0.593799</td>\n",
       "      <td>...</td>\n",
       "      <td>NaN</td>\n",
       "      <td>NaN</td>\n",
       "      <td>NaN</td>\n",
       "      <td>NaN</td>\n",
       "      <td>NaN</td>\n",
       "      <td>NaN</td>\n",
       "      <td>3</td>\n",
       "      <td>0.336268</td>\n",
       "      <td>0.246571</td>\n",
       "      <td>[]</td>\n",
       "    </tr>\n",
       "    <tr>\n",
       "      <th>4</th>\n",
       "      <td>99</td>\n",
       "      <td>M1</td>\n",
       "      <td>2023-10-12</td>\n",
       "      <td>1min-1min</td>\n",
       "      <td>17.249313</td>\n",
       "      <td>25.001962</td>\n",
       "      <td>164</td>\n",
       "      <td>0</td>\n",
       "      <td>5</td>\n",
       "      <td>0.616711</td>\n",
       "      <td>...</td>\n",
       "      <td>NaN</td>\n",
       "      <td>NaN</td>\n",
       "      <td>NaN</td>\n",
       "      <td>NaN</td>\n",
       "      <td>NaN</td>\n",
       "      <td>NaN</td>\n",
       "      <td>4</td>\n",
       "      <td>0.347590</td>\n",
       "      <td>0.254529</td>\n",
       "      <td>[]</td>\n",
       "    </tr>\n",
       "    <tr>\n",
       "      <th>...</th>\n",
       "      <td>...</td>\n",
       "      <td>...</td>\n",
       "      <td>...</td>\n",
       "      <td>...</td>\n",
       "      <td>...</td>\n",
       "      <td>...</td>\n",
       "      <td>...</td>\n",
       "      <td>...</td>\n",
       "      <td>...</td>\n",
       "      <td>...</td>\n",
       "      <td>...</td>\n",
       "      <td>...</td>\n",
       "      <td>...</td>\n",
       "      <td>...</td>\n",
       "      <td>...</td>\n",
       "      <td>...</td>\n",
       "      <td>...</td>\n",
       "      <td>...</td>\n",
       "      <td>...</td>\n",
       "      <td>...</td>\n",
       "      <td>...</td>\n",
       "    </tr>\n",
       "    <tr>\n",
       "      <th>66039</th>\n",
       "      <td>30v3</td>\n",
       "      <td>M7</td>\n",
       "      <td>2024-07-01</td>\n",
       "      <td>1min-5min</td>\n",
       "      <td>16.279873</td>\n",
       "      <td>23.095573</td>\n",
       "      <td>180</td>\n",
       "      <td>2</td>\n",
       "      <td>21</td>\n",
       "      <td>0.686912</td>\n",
       "      <td>...</td>\n",
       "      <td>19.047778</td>\n",
       "      <td>19.464722</td>\n",
       "      <td>19.548333</td>\n",
       "      <td>19.965278</td>\n",
       "      <td>20.048889</td>\n",
       "      <td>20.304722</td>\n",
       "      <td>68</td>\n",
       "      <td>0.418026</td>\n",
       "      <td>0.139865</td>\n",
       "      <td>[]</td>\n",
       "    </tr>\n",
       "    <tr>\n",
       "      <th>66149</th>\n",
       "      <td>30v3</td>\n",
       "      <td>M7</td>\n",
       "      <td>2024-07-01</td>\n",
       "      <td>1min-5min</td>\n",
       "      <td>16.279873</td>\n",
       "      <td>23.095573</td>\n",
       "      <td>180</td>\n",
       "      <td>7</td>\n",
       "      <td>11</td>\n",
       "      <td>0.683300</td>\n",
       "      <td>...</td>\n",
       "      <td>19.047778</td>\n",
       "      <td>19.464722</td>\n",
       "      <td>19.548333</td>\n",
       "      <td>19.965278</td>\n",
       "      <td>20.048889</td>\n",
       "      <td>20.304722</td>\n",
       "      <td>178</td>\n",
       "      <td>0.432028</td>\n",
       "      <td>0.063589</td>\n",
       "      <td>[]</td>\n",
       "    </tr>\n",
       "    <tr>\n",
       "      <th>66284</th>\n",
       "      <td>30v3</td>\n",
       "      <td>M7</td>\n",
       "      <td>2024-07-01</td>\n",
       "      <td>1min-5min</td>\n",
       "      <td>16.279873</td>\n",
       "      <td>23.095573</td>\n",
       "      <td>180</td>\n",
       "      <td>13</td>\n",
       "      <td>2</td>\n",
       "      <td>0.635447</td>\n",
       "      <td>...</td>\n",
       "      <td>19.047778</td>\n",
       "      <td>19.464722</td>\n",
       "      <td>19.548333</td>\n",
       "      <td>19.965278</td>\n",
       "      <td>20.048889</td>\n",
       "      <td>20.304722</td>\n",
       "      <td>313</td>\n",
       "      <td>0.390908</td>\n",
       "      <td>0.134736</td>\n",
       "      <td>[]</td>\n",
       "    </tr>\n",
       "    <tr>\n",
       "      <th>66293</th>\n",
       "      <td>30v3</td>\n",
       "      <td>M7</td>\n",
       "      <td>2024-07-01</td>\n",
       "      <td>1min-5min</td>\n",
       "      <td>16.279873</td>\n",
       "      <td>23.095573</td>\n",
       "      <td>180</td>\n",
       "      <td>13</td>\n",
       "      <td>11</td>\n",
       "      <td>0.667119</td>\n",
       "      <td>...</td>\n",
       "      <td>19.047778</td>\n",
       "      <td>19.464722</td>\n",
       "      <td>19.548333</td>\n",
       "      <td>19.965278</td>\n",
       "      <td>20.048889</td>\n",
       "      <td>20.304722</td>\n",
       "      <td>322</td>\n",
       "      <td>0.406677</td>\n",
       "      <td>0.120597</td>\n",
       "      <td>[]</td>\n",
       "    </tr>\n",
       "    <tr>\n",
       "      <th>66303</th>\n",
       "      <td>30v3</td>\n",
       "      <td>M7</td>\n",
       "      <td>2024-07-01</td>\n",
       "      <td>1min-5min</td>\n",
       "      <td>16.279873</td>\n",
       "      <td>23.095573</td>\n",
       "      <td>180</td>\n",
       "      <td>13</td>\n",
       "      <td>21</td>\n",
       "      <td>0.677923</td>\n",
       "      <td>...</td>\n",
       "      <td>19.047778</td>\n",
       "      <td>19.464722</td>\n",
       "      <td>19.548333</td>\n",
       "      <td>19.965278</td>\n",
       "      <td>20.048889</td>\n",
       "      <td>20.304722</td>\n",
       "      <td>332</td>\n",
       "      <td>0.413990</td>\n",
       "      <td>0.129921</td>\n",
       "      <td>[]</td>\n",
       "    </tr>\n",
       "  </tbody>\n",
       "</table>\n",
       "<p>5041 rows × 379 columns</p>\n",
       "</div>"
      ],
      "text/plain": [
       "      plate measurement start_date light_regime  dark_threshold  \\\n",
       "0        99          M1 2023-10-12    1min-1min       17.249313   \n",
       "1        99          M1 2023-10-12    1min-1min       17.249313   \n",
       "2        99          M1 2023-10-12    1min-1min       17.249313   \n",
       "3        99          M1 2023-10-12    1min-1min       17.249313   \n",
       "4        99          M1 2023-10-12    1min-1min       17.249313   \n",
       "...     ...         ...        ...          ...             ...   \n",
       "66039  30v3          M7 2024-07-01    1min-5min       16.279873   \n",
       "66149  30v3          M7 2024-07-01    1min-5min       16.279873   \n",
       "66284  30v3          M7 2024-07-01    1min-5min       16.279873   \n",
       "66293  30v3          M7 2024-07-01    1min-5min       16.279873   \n",
       "66303  30v3          M7 2024-07-01    1min-5min       16.279873   \n",
       "\n",
       "       light_threshold  num_frames   i   j     fv_fm  ...  elapsed_time_84  \\\n",
       "0            25.001962         164   0   1  0.616146  ...              NaN   \n",
       "1            25.001962         164   0   2  0.607132  ...              NaN   \n",
       "2            25.001962         164   0   3  0.618476  ...              NaN   \n",
       "3            25.001962         164   0   4  0.593799  ...              NaN   \n",
       "4            25.001962         164   0   5  0.616711  ...              NaN   \n",
       "...                ...         ...  ..  ..       ...  ...              ...   \n",
       "66039        23.095573         180   2  21  0.686912  ...        19.047778   \n",
       "66149        23.095573         180   7  11  0.683300  ...        19.047778   \n",
       "66284        23.095573         180  13   2  0.635447  ...        19.047778   \n",
       "66293        23.095573         180  13  11  0.667119  ...        19.047778   \n",
       "66303        23.095573         180  13  21  0.677923  ...        19.047778   \n",
       "\n",
       "       elapsed_time_85  elapsed_time_86  elapsed_time_87  elapsed_time_88  \\\n",
       "0                  NaN              NaN              NaN              NaN   \n",
       "1                  NaN              NaN              NaN              NaN   \n",
       "2                  NaN              NaN              NaN              NaN   \n",
       "3                  NaN              NaN              NaN              NaN   \n",
       "4                  NaN              NaN              NaN              NaN   \n",
       "...                ...              ...              ...              ...   \n",
       "66039        19.464722        19.548333        19.965278        20.048889   \n",
       "66149        19.464722        19.548333        19.965278        20.048889   \n",
       "66284        19.464722        19.548333        19.965278        20.048889   \n",
       "66293        19.464722        19.548333        19.965278        20.048889   \n",
       "66303        19.464722        19.548333        19.965278        20.048889   \n",
       "\n",
       "       elapsed_time_89  well_id_numeric   mean_y2  mean_ynpq  GO  \n",
       "0                  NaN                0  0.363719   0.256794  []  \n",
       "1                  NaN                1  0.356856   0.253412  []  \n",
       "2                  NaN                2  0.348922   0.255790  []  \n",
       "3                  NaN                3  0.336268   0.246571  []  \n",
       "4                  NaN                4  0.347590   0.254529  []  \n",
       "...                ...              ...       ...        ...  ..  \n",
       "66039        20.304722               68  0.418026   0.139865  []  \n",
       "66149        20.304722              178  0.432028   0.063589  []  \n",
       "66284        20.304722              313  0.390908   0.134736  []  \n",
       "66293        20.304722              322  0.406677   0.120597  []  \n",
       "66303        20.304722              332  0.413990   0.129921  []  \n",
       "\n",
       "[5041 rows x 379 columns]"
      ]
     },
     "execution_count": 133,
     "metadata": {},
     "output_type": "execute_result"
    }
   ],
   "source": [
    "data_WT_without_M6"
   ]
  },
  {
   "cell_type": "code",
   "execution_count": 157,
   "metadata": {},
   "outputs": [
    {
     "data": {
      "text/plain": [
       "(array([  2.,   3.,  10.,  59., 160., 132.,  47.,  16.,   7.,   8.,   3.,\n",
       "          1.,   1.,   0.,   2.,  18., 149., 364., 375., 445., 487., 539.,\n",
       "        407., 139.,  49.,  18.,   7.,   3.,   4.,   1.]),\n",
       " array([0.10081732, 0.11461819, 0.12841906, 0.14221993, 0.1560208 ,\n",
       "        0.16982166, 0.18362253, 0.1974234 , 0.21122427, 0.22502513,\n",
       "        0.238826  , 0.25262687, 0.26642774, 0.2802286 , 0.29402947,\n",
       "        0.30783034, 0.32163121, 0.33543207, 0.34923294, 0.36303381,\n",
       "        0.37683468, 0.39063554, 0.40443641, 0.41823728, 0.43203815,\n",
       "        0.44583901, 0.45963988, 0.47344075, 0.48724162, 0.50104248,\n",
       "        0.51484335]),\n",
       " <BarContainer object of 30 artists>)"
      ]
     },
     "execution_count": 157,
     "metadata": {},
     "output_type": "execute_result"
    },
    {
     "data": {
      "image/png": "[encoded data removed]",
      "text/plain": [
       "<Figure size 640x480 with 1 Axes>"
      ]
     },
     "metadata": {},
     "output_type": "display_data"
    }
   ],
   "source": [
    "plt.hist(data_WT['mean_y2'], bins=30)"
   ]
  },
  {
   "cell_type": "code",
   "execution_count": 170,
   "metadata": {},
   "outputs": [
    {
     "data": {
      "image/png": "[encoded data removed]",
      "text/plain": [
       "<Figure size 640x480 with 1 Axes>"
      ]
     },
     "metadata": {},
     "output_type": "display_data"
    },
    {
     "name": "stderr",
     "output_type": "stream",
     "text": [
      "/var/folders/1m/j6l58hd9755c0h_89l4yckhw0000gn/T/ipykernel_11057/3668595566.py:29: SettingWithCopyWarning: \n",
      "A value is trying to be set on a copy of a slice from a DataFrame.\n",
      "Try using .loc[row_indexer,col_indexer] = value instead\n",
      "\n",
      "See the caveats in the documentation: https://pandas.pydata.org/pandas-docs/stable/user_guide/indexing.html#returning-a-view-versus-a-copy\n",
      "  data_WT_na['group'] = labels\n"
     ]
    }
   ],
   "source": [
    "# group the data into 2 groups based on mean_y2 value using GMM\n",
    "from sklearn.mixture import GaussianMixture\n",
    "\n",
    "data_WT_na = data_WT.dropna(subset=['fv_fm'])\n",
    "\n",
    "# Reshape the data\n",
    "fv_fm = data_WT_na['fv_fm'].values\n",
    "fv_fm = fv_fm.reshape(-1, 1)\n",
    "\n",
    "# Fit a Gaussian Mixture Model\n",
    "gmm = GaussianMixture(n_components=2)\n",
    "gmm.fit(fv_fm)\n",
    "\n",
    "# Predict the labels (which component each sample belongs to)\n",
    "labels = gmm.predict(fv_fm)\n",
    "\n",
    "# Separate the data into two groups\n",
    "group1 = fv_fm[labels == 0]\n",
    "group2 = fv_fm[labels == 1]\n",
    "\n",
    "# Plot the original data and the separated groups\n",
    "plt.hist(fv_fm, bins=50, alpha=0.5, label='All Data')\n",
    "plt.hist(group1, bins=50, alpha=0.5, label='Group 1')\n",
    "plt.hist(group2, bins=50, alpha=0.5, label='Group 2')\n",
    "plt.legend()\n",
    "plt.show()\n",
    "\n",
    "# add the labels to the data\n",
    "data_WT_na['group'] = labels"
   ]
  },
  {
   "cell_type": "code",
   "execution_count": 175,
   "metadata": {},
   "outputs": [
    {
     "data": {
      "text/plain": [
       "measurement\n",
       "M6    395\n",
       "M2     47\n",
       "M5     32\n",
       "M4     32\n",
       "M1     25\n",
       "M3     15\n",
       "Name: count, dtype: int64"
      ]
     },
     "execution_count": 175,
     "metadata": {},
     "output_type": "execute_result"
    }
   ],
   "source": [
    "data_WT_na[data_WT_na['group'] == 0]['measurement'].value_counts()"
   ]
  },
  {
   "cell_type": "code",
   "execution_count": 176,
   "metadata": {},
   "outputs": [
    {
     "data": {
      "text/plain": [
       "measurement\n",
       "M5    800\n",
       "M1    798\n",
       "M3    428\n",
       "M4    414\n",
       "M2    399\n",
       "M6     71\n",
       "Name: count, dtype: int64"
      ]
     },
     "execution_count": 176,
     "metadata": {},
     "output_type": "execute_result"
    }
   ],
   "source": [
    "data_WT_na[data_WT_na['group'] == 1]['measurement'].value_counts()"
   ]
  },
  {
   "cell_type": "code",
   "execution_count": 158,
   "metadata": {},
   "outputs": [
    {
     "data": {
      "text/plain": [
       "Text(0.5, 1.0, 'Histogram of average Y(II) values for WT without M6')"
      ]
     },
     "execution_count": 158,
     "metadata": {},
     "output_type": "execute_result"
    },
    {
     "data": {
      "image/png": "[encoded data removed]",
      "text/plain": [
       "<Figure size 640x480 with 1 Axes>"
      ]
     },
     "metadata": {},
     "output_type": "display_data"
    }
   ],
   "source": [
    "plt.hist(data_WT_without_M6['mean_y2'], bins=30)\n",
    "plt.title('Histogram of average Y(II) values for WT without M6')"
   ]
  },
  {
   "cell_type": "markdown",
   "metadata": {},
   "source": [
    "### Checking the variability of $\\frac{F_v}{F_m}$ over the plates and measurement types"
   ]
  },
  {
   "cell_type": "code",
   "execution_count": 104,
   "metadata": {},
   "outputs": [],
   "source": [
    "data_not_WT = data[data['mutant_ID'] != 'WT']"
   ]
  },
  {
   "cell_type": "code",
   "execution_count": 105,
   "metadata": {},
   "outputs": [
    {
     "data": {
      "image/png": "[encoded data removed]",
      "text/plain": [
       "<Figure size 640x480 with 1 Axes>"
      ]
     },
     "metadata": {},
     "output_type": "display_data"
    }
   ],
   "source": [
    "# Check the variability between plates\n",
    "data_grouped_plate = data_not_WT.groupby('plate')['fv_fm'].mean()\n",
    "data_grouped_plate.plot(kind='bar', xlabel='Plate', ylabel='fv_fm Value', title='Average fv_fm Value by Plate')\n",
    "\n",
    "mean, var = data_grouped_plate.mean(), data_grouped_plate.var()"
   ]
  },
  {
   "cell_type": "code",
   "execution_count": 121,
   "metadata": {},
   "outputs": [
    {
     "data": {
      "text/plain": [
       "<Axes: >"
      ]
     },
     "execution_count": 121,
     "metadata": {},
     "output_type": "execute_result"
    },
    {
     "data": {
      "image/png": "[encoded data removed]",
      "text/plain": [
       "<Figure size 640x480 with 1 Axes>"
      ]
     },
     "metadata": {},
     "output_type": "display_data"
    }
   ],
   "source": [
    "data[data['plate'] == '24']['fv_fm'].hist(bins=20)"
   ]
  },
  {
   "cell_type": "code",
   "execution_count": null,
   "metadata": {},
   "outputs": [
    {
     "name": "stdout",
     "output_type": "stream",
     "text": [
      "Mean: 0.61200047\n",
      "Variance: 5.8579102e-05\n"
     ]
    }
   ],
   "source": [
    "print('Mean:', mean)\n",
    "print('Variance:', var)"
   ]
  },
  {
   "cell_type": "code",
   "execution_count": null,
   "metadata": {},
   "outputs": [
    {
     "data": {
      "text/plain": [
       "<AxesSubplot:title={'center':'Average WT fv_fm Value by Measurement Type (Plate 99)'}, xlabel='Measurement Type', ylabel='WT fv_fm Value'>"
      ]
     },
     "metadata": {},
     "output_type": "display_data"
    },
    {
     "data": {
      "image/png": "[encoded data removed]",
      "text/plain": [
       "<Figure size 640x480 with 1 Axes>"
      ]
     },
     "metadata": {},
     "output_type": "display_data"
    }
   ],
   "source": [
    "data_WT_99 = data_WT[data_WT['plate'] == 99]\n",
    "data_grouped_WT_99 = data_WT_99.groupby('measurement')['fv_fm'].mean()\n",
    "data_grouped_WT_99.plot(kind='bar', xlabel='Measurement Type', ylabel='WT fv_fm Value', title='Average WT fv_fm Value by Measurement Type (Plate 99)')"
   ]
  },
  {
   "cell_type": "code",
   "execution_count": null,
   "metadata": {},
   "outputs": [
    {
     "name": "stdout",
     "output_type": "stream",
     "text": [
      "Mean (Plate 99): 0.63398755\n",
      "Variance (Plate 99): 0.00045195586\n"
     ]
    }
   ],
   "source": [
    "mean_WT, var_WT = data_WT['fv_fm'].mean(), data_WT['fv_fm'].var()\n",
    "\n",
    "print('Mean (Plate 99):', mean_WT)\n",
    "print('Variance (Plate 99):', var_WT)"
   ]
  },
  {
   "cell_type": "markdown",
   "metadata": {},
   "source": [
    "### Checking how many genes are present in different plates and looking at the variability"
   ]
  },
  {
   "cell_type": "code",
   "execution_count": 7,
   "metadata": {},
   "outputs": [],
   "source": [
    "# Find the mutated genes that appear in multiple plates\n",
    "multiple_plates_genes = []\n",
    "for gene in data['mutated_genes'].unique():\n",
    "    if len(data[data['mutated_genes'] == gene]['plate'].unique()) > 1:\n",
    "        multiple_plates_genes.append(gene)"
   ]
  },
  {
   "cell_type": "code",
   "execution_count": 8,
   "metadata": {},
   "outputs": [
    {
     "name": "stdout",
     "output_type": "stream",
     "text": [
      "There are 2242 different mutated genes that appear in multiple plates.\n"
     ]
    }
   ],
   "source": [
    "print('There are', len(multiple_plates_genes), 'different mutated genes that appear in multiple plates.')"
   ]
  },
  {
   "cell_type": "code",
   "execution_count": null,
   "metadata": {},
   "outputs": [],
   "source": [
    "gene = multiple_plates_genes[0]\n",
    "data_gene = data[data['mutated_genes'] == gene]"
   ]
  },
  {
   "cell_type": "code",
   "execution_count": null,
   "metadata": {},
   "outputs": [],
   "source": [
    "df_features = pd.DataFrame(columns=['gene', 'plate', 'light_regime', 'Mean', 'Standard Deviation', 'Max', 'Min'])\n",
    "\n",
    "for gene in multiple_plates_genes:\n",
    "    data_gene = data[data['mutated_genes'] == gene]\n",
    "    for i, plate in enumerate(data_gene['plate'].unique()):\n",
    "        data_gene_plate = data_gene[data_gene['plate'] == plate]\n",
    "        for light_regime in data_gene_plate['light_regime'].unique():\n",
    "            row = data_gene_plate[data_gene_plate['light_regime'] == light_regime].iloc[0]\n",
    "            y2_values = row.filter(like='y2_').replace('Nan', np.nan).dropna()\n",
    "            df = pd.DataFrame({'gene': [gene], 'plate': [plate], 'light_regime': [light_regime], 'Mean': [np.mean(y2_values)],\n",
    "                            'Standard Deviation': [np.std(y2_values)], 'Max': [np.max(y2_values)],\n",
    "                            'Min': [np.min(y2_values)]})\n",
    "            df_features = pd.concat([df_features, df], ignore_index=True)"
   ]
  },
  {
   "cell_type": "code",
   "execution_count": null,
   "metadata": {},
   "outputs": [
    {
     "data": {
      "text/html": [
       "<div>\n",
       "<style scoped>\n",
       "    .dataframe tbody tr th:only-of-type {\n",
       "        vertical-align: middle;\n",
       "    }\n",
       "\n",
       "    .dataframe tbody tr th {\n",
       "        vertical-align: top;\n",
       "    }\n",
       "\n",
       "    .dataframe thead th {\n",
       "        text-align: right;\n",
       "    }\n",
       "</style>\n",
       "<table border=\"1\" class=\"dataframe\">\n",
       "  <thead>\n",
       "    <tr style=\"text-align: right;\">\n",
       "      <th></th>\n",
       "      <th>gene</th>\n",
       "      <th>plate</th>\n",
       "      <th>light_regime</th>\n",
       "      <th>Mean</th>\n",
       "      <th>Standard Deviation</th>\n",
       "      <th>Max</th>\n",
       "      <th>Min</th>\n",
       "    </tr>\n",
       "  </thead>\n",
       "  <tbody>\n",
       "    <tr>\n",
       "      <th>0</th>\n",
       "      <td></td>\n",
       "      <td>99</td>\n",
       "      <td>1min-1min</td>\n",
       "      <td>NaN</td>\n",
       "      <td>NaN</td>\n",
       "      <td>NaN</td>\n",
       "      <td>NaN</td>\n",
       "    </tr>\n",
       "    <tr>\n",
       "      <th>1</th>\n",
       "      <td></td>\n",
       "      <td>99</td>\n",
       "      <td>20h_HL</td>\n",
       "      <td>0.212410</td>\n",
       "      <td>0.061501</td>\n",
       "      <td>0.554910</td>\n",
       "      <td>0.159874</td>\n",
       "    </tr>\n",
       "    <tr>\n",
       "      <th>...</th>\n",
       "      <td>...</td>\n",
       "      <td>...</td>\n",
       "      <td>...</td>\n",
       "      <td>...</td>\n",
       "      <td>...</td>\n",
       "      <td>...</td>\n",
       "      <td>...</td>\n",
       "    </tr>\n",
       "    <tr>\n",
       "      <th>22482</th>\n",
       "      <td>Cre03.g191800</td>\n",
       "      <td>17</td>\n",
       "      <td>2h-2h</td>\n",
       "      <td>0.321308</td>\n",
       "      <td>0.191957</td>\n",
       "      <td>0.529827</td>\n",
       "      <td>0.101807</td>\n",
       "    </tr>\n",
       "    <tr>\n",
       "      <th>22483</th>\n",
       "      <td>Cre03.g191800</td>\n",
       "      <td>17</td>\n",
       "      <td>10min-10min</td>\n",
       "      <td>0.284764</td>\n",
       "      <td>0.186798</td>\n",
       "      <td>0.501654</td>\n",
       "      <td>0.076312</td>\n",
       "    </tr>\n",
       "  </tbody>\n",
       "</table>\n",
       "<p>22484 rows × 7 columns</p>\n",
       "</div>"
      ],
      "text/plain": [
       "                gene plate light_regime      Mean  Standard Deviation  \\\n",
       "0                       99    1min-1min       NaN                 NaN   \n",
       "1                       99       20h_HL  0.212410            0.061501   \n",
       "...              ...   ...          ...       ...                 ...   \n",
       "22482  Cre03.g191800    17        2h-2h  0.321308            0.191957   \n",
       "22483  Cre03.g191800    17  10min-10min  0.284764            0.186798   \n",
       "\n",
       "            Max       Min  \n",
       "0           NaN       NaN  \n",
       "1      0.554910  0.159874  \n",
       "...         ...       ...  \n",
       "22482  0.529827  0.101807  \n",
       "22483  0.501654  0.076312  \n",
       "\n",
       "[22484 rows x 7 columns]"
      ]
     },
     "metadata": {},
     "output_type": "display_data"
    }
   ],
   "source": [
    "df_features"
   ]
  },
  {
   "cell_type": "code",
   "execution_count": null,
   "metadata": {},
   "outputs": [],
   "source": [
    "grouped_data = df_features.groupby(['gene', 'light_regime']).agg({'Mean': 'var', 'Standard Deviation': 'var', 'Max': 'var', 'Min': 'var'})"
   ]
  },
  {
   "cell_type": "code",
   "execution_count": null,
   "metadata": {},
   "outputs": [
    {
     "data": {
      "text/html": [
       "<div>\n",
       "<style scoped>\n",
       "    .dataframe tbody tr th:only-of-type {\n",
       "        vertical-align: middle;\n",
       "    }\n",
       "\n",
       "    .dataframe tbody tr th {\n",
       "        vertical-align: top;\n",
       "    }\n",
       "\n",
       "    .dataframe thead th {\n",
       "        text-align: right;\n",
       "    }\n",
       "</style>\n",
       "<table border=\"1\" class=\"dataframe\">\n",
       "  <thead>\n",
       "    <tr style=\"text-align: right;\">\n",
       "      <th></th>\n",
       "      <th></th>\n",
       "      <th>Mean</th>\n",
       "      <th>Standard Deviation</th>\n",
       "      <th>Max</th>\n",
       "      <th>Min</th>\n",
       "    </tr>\n",
       "    <tr>\n",
       "      <th>gene</th>\n",
       "      <th>light_regime</th>\n",
       "      <th></th>\n",
       "      <th></th>\n",
       "      <th></th>\n",
       "      <th></th>\n",
       "    </tr>\n",
       "  </thead>\n",
       "  <tbody>\n",
       "    <tr>\n",
       "      <th rowspan=\"2\" valign=\"top\"></th>\n",
       "      <th>10min-10min</th>\n",
       "      <td>0.000499</td>\n",
       "      <td>0.000037</td>\n",
       "      <td>0.000756</td>\n",
       "      <td>0.000531</td>\n",
       "    </tr>\n",
       "    <tr>\n",
       "      <th>1min-1min</th>\n",
       "      <td>0.000647</td>\n",
       "      <td>0.000029</td>\n",
       "      <td>0.000772</td>\n",
       "      <td>0.000929</td>\n",
       "    </tr>\n",
       "    <tr>\n",
       "      <th>...</th>\n",
       "      <th>...</th>\n",
       "      <td>...</td>\n",
       "      <td>...</td>\n",
       "      <td>...</td>\n",
       "      <td>...</td>\n",
       "    </tr>\n",
       "    <tr>\n",
       "      <th rowspan=\"2\" valign=\"top\">Cre24.g755947</th>\n",
       "      <th>20h_ML</th>\n",
       "      <td>0.000990</td>\n",
       "      <td>0.000019</td>\n",
       "      <td>0.001781</td>\n",
       "      <td>0.001092</td>\n",
       "    </tr>\n",
       "    <tr>\n",
       "      <th>2h-2h</th>\n",
       "      <td>0.000040</td>\n",
       "      <td>0.000121</td>\n",
       "      <td>0.000160</td>\n",
       "      <td>0.000304</td>\n",
       "    </tr>\n",
       "  </tbody>\n",
       "</table>\n",
       "<p>10101 rows × 4 columns</p>\n",
       "</div>"
      ],
      "text/plain": [
       "                                Mean  Standard Deviation       Max       Min\n",
       "gene          light_regime                                                  \n",
       "              10min-10min   0.000499            0.000037  0.000756  0.000531\n",
       "              1min-1min     0.000647            0.000029  0.000772  0.000929\n",
       "...                              ...                 ...       ...       ...\n",
       "Cre24.g755947 20h_ML        0.000990            0.000019  0.001781  0.001092\n",
       "              2h-2h         0.000040            0.000121  0.000160  0.000304\n",
       "\n",
       "[10101 rows x 4 columns]"
      ]
     },
     "metadata": {},
     "output_type": "display_data"
    }
   ],
   "source": [
    "grouped_data"
   ]
  },
  {
   "cell_type": "markdown",
   "metadata": {},
   "source": [
    "### Checking the correlation between the position of the colony in the plate and the $\\frac{F_v}{F_m}$ value"
   ]
  },
  {
   "cell_type": "code",
   "execution_count": 9,
   "metadata": {},
   "outputs": [
    {
     "name": "stdout",
     "output_type": "stream",
     "text": [
      "Correlation between well_id and fv_fm: 0.05199088375628775\n"
     ]
    }
   ],
   "source": [
    "# Compute correlation coefficient\n",
    "correlation = data['well_id_numeric'].corr(data['fv_fm'])\n",
    "\n",
    "print(\"Correlation between well_id and fv_fm:\", correlation)"
   ]
  },
  {
   "cell_type": "code",
   "execution_count": 10,
   "metadata": {},
   "outputs": [
    {
     "data": {
      "text/plain": [
       "(array([2420., 2299., 2299., 2299., 2299., 2299., 2420., 2299., 2299.,\n",
       "        2299., 2299., 2299., 2299., 2420., 2299., 2299., 2299., 2299.,\n",
       "        2299., 2420.]),\n",
       " array([  0.  ,  19.15,  38.3 ,  57.45,  76.6 ,  95.75, 114.9 , 134.05,\n",
       "        153.2 , 172.35, 191.5 , 210.65, 229.8 , 248.95, 268.1 , 287.25,\n",
       "        306.4 , 325.55, 344.7 , 363.85, 383.  ]),\n",
       " <BarContainer object of 20 artists>)"
      ]
     },
     "execution_count": 10,
     "metadata": {},
     "output_type": "execute_result"
    },
    {
     "data": {
      "image/png": "[encoded data removed]",
      "text/plain": [
       "<Figure size 640x480 with 1 Axes>"
      ]
     },
     "metadata": {},
     "output_type": "display_data"
    }
   ],
   "source": [
    "plt.hist(data['well_id_numeric'], bins=20)"
   ]
  },
  {
   "cell_type": "code",
   "execution_count": 122,
   "metadata": {},
   "outputs": [],
   "source": [
    "correlation_WT_99 = data_WT_without_M6['well_id_numeric'].corr(data_WT_without_M6['fv_fm'])"
   ]
  },
  {
   "cell_type": "code",
   "execution_count": 123,
   "metadata": {},
   "outputs": [
    {
     "name": "stdout",
     "output_type": "stream",
     "text": [
      "Correlation between well_id of the WT and fv_fm for the plate 99: 0.17128600255738452\n"
     ]
    }
   ],
   "source": [
    "print(\"Correlation between well_id of the WT and fv_fm for the plate 99:\", correlation_WT_99)"
   ]
  },
  {
   "cell_type": "markdown",
   "metadata": {},
   "source": [
    "This is a little bit concerning, we may have to do another normalization step to correct for this."
   ]
  },
  {
   "cell_type": "markdown",
   "metadata": {},
   "source": [
    "### Check if the number of frames is consistent"
   ]
  },
  {
   "cell_type": "code",
   "execution_count": 124,
   "metadata": {},
   "outputs": [
    {
     "data": {
      "text/plain": [
       "(array([26283.,     0.,     0.,     0.,     0.,     0.,     0.,     0.,\n",
       "            0.,     0.,     0.,     0.,     0.,     0.,     0.,     0.,\n",
       "            0.,     0.,     0., 26666.]),\n",
       " array([ 84.,  88.,  92.,  96., 100., 104., 108., 112., 116., 120., 124.,\n",
       "        128., 132., 136., 140., 144., 148., 152., 156., 160., 164.]),\n",
       " <BarContainer object of 20 artists>)"
      ]
     },
     "execution_count": 124,
     "metadata": {},
     "output_type": "execute_result"
    },
    {
     "data": {
      "image/png": "[encoded data removed]",
      "text/plain": [
       "<Figure size 640x480 with 1 Axes>"
      ]
     },
     "metadata": {},
     "output_type": "display_data"
    }
   ],
   "source": [
    "plt.hist(data['num_frames'], bins=20)"
   ]
  },
  {
   "cell_type": "code",
   "execution_count": null,
   "metadata": {},
   "outputs": [],
   "source": [
    "# get the rows that have num_frames > 164\n",
    "\n",
    "data_to_remake = data[(data['num_frames'] > 164)]"
   ]
  },
  {
   "cell_type": "code",
   "execution_count": null,
   "metadata": {},
   "outputs": [
    {
     "data": {
      "text/plain": [
       "Series([], Name: plate, dtype: int64)"
      ]
     },
     "metadata": {},
     "output_type": "display_data"
    }
   ],
   "source": [
    "data_to_remake['plate'].value_counts()"
   ]
  },
  {
   "cell_type": "code",
   "execution_count": null,
   "metadata": {},
   "outputs": [
    {
     "data": {
      "text/html": [
       "<div>\n",
       "<style scoped>\n",
       "    .dataframe tbody tr th:only-of-type {\n",
       "        vertical-align: middle;\n",
       "    }\n",
       "\n",
       "    .dataframe tbody tr th {\n",
       "        vertical-align: top;\n",
       "    }\n",
       "\n",
       "    .dataframe thead th {\n",
       "        text-align: right;\n",
       "    }\n",
       "</style>\n",
       "<table border=\"1\" class=\"dataframe\">\n",
       "  <thead>\n",
       "    <tr style=\"text-align: right;\">\n",
       "      <th></th>\n",
       "      <th>plate</th>\n",
       "      <th>measurement</th>\n",
       "      <th>start_date</th>\n",
       "      <th>light_regime</th>\n",
       "      <th>dark_threshold</th>\n",
       "      <th>light_threshold</th>\n",
       "      <th>num_frames</th>\n",
       "      <th>i</th>\n",
       "      <th>j</th>\n",
       "      <th>fv_fm</th>\n",
       "      <th>mask_area</th>\n",
       "      <th>y2_1</th>\n",
       "      <th>y2_2</th>\n",
       "      <th>y2_3</th>\n",
       "      <th>y2_4</th>\n",
       "      <th>y2_5</th>\n",
       "      <th>y2_6</th>\n",
       "      <th>y2_7</th>\n",
       "      <th>y2_8</th>\n",
       "      <th>y2_9</th>\n",
       "      <th>y2_10</th>\n",
       "      <th>y2_11</th>\n",
       "      <th>y2_12</th>\n",
       "      <th>y2_13</th>\n",
       "      <th>y2_14</th>\n",
       "      <th>y2_15</th>\n",
       "      <th>y2_16</th>\n",
       "      <th>y2_17</th>\n",
       "      <th>y2_18</th>\n",
       "      <th>y2_19</th>\n",
       "      <th>y2_20</th>\n",
       "      <th>y2_21</th>\n",
       "      <th>y2_22</th>\n",
       "      <th>y2_23</th>\n",
       "      <th>y2_24</th>\n",
       "      <th>y2_25</th>\n",
       "      <th>y2_26</th>\n",
       "      <th>y2_27</th>\n",
       "      <th>y2_28</th>\n",
       "      <th>y2_29</th>\n",
       "      <th>y2_30</th>\n",
       "      <th>y2_31</th>\n",
       "      <th>y2_32</th>\n",
       "      <th>y2_33</th>\n",
       "      <th>y2_34</th>\n",
       "      <th>y2_35</th>\n",
       "      <th>y2_36</th>\n",
       "      <th>y2_37</th>\n",
       "      <th>y2_38</th>\n",
       "      <th>y2_39</th>\n",
       "      <th>y2_40</th>\n",
       "      <th>y2_41</th>\n",
       "      <th>y2_42</th>\n",
       "      <th>y2_43</th>\n",
       "      <th>y2_44</th>\n",
       "      <th>y2_45</th>\n",
       "      <th>y2_46</th>\n",
       "      <th>y2_47</th>\n",
       "      <th>y2_48</th>\n",
       "      <th>y2_49</th>\n",
       "      <th>y2_50</th>\n",
       "      <th>y2_51</th>\n",
       "      <th>y2_52</th>\n",
       "      <th>y2_53</th>\n",
       "      <th>y2_54</th>\n",
       "      <th>y2_55</th>\n",
       "      <th>y2_56</th>\n",
       "      <th>y2_57</th>\n",
       "      <th>y2_58</th>\n",
       "      <th>y2_59</th>\n",
       "      <th>y2_60</th>\n",
       "      <th>y2_61</th>\n",
       "      <th>y2_62</th>\n",
       "      <th>y2_63</th>\n",
       "      <th>y2_64</th>\n",
       "      <th>y2_65</th>\n",
       "      <th>y2_66</th>\n",
       "      <th>y2_67</th>\n",
       "      <th>y2_68</th>\n",
       "      <th>y2_69</th>\n",
       "      <th>y2_70</th>\n",
       "      <th>y2_71</th>\n",
       "      <th>y2_72</th>\n",
       "      <th>y2_73</th>\n",
       "      <th>y2_74</th>\n",
       "      <th>y2_75</th>\n",
       "      <th>y2_76</th>\n",
       "      <th>y2_77</th>\n",
       "      <th>y2_78</th>\n",
       "      <th>y2_79</th>\n",
       "      <th>y2_80</th>\n",
       "      <th>y2_81</th>\n",
       "      <th>npq_1</th>\n",
       "      <th>npq_2</th>\n",
       "      <th>npq_3</th>\n",
       "      <th>npq_4</th>\n",
       "      <th>npq_5</th>\n",
       "      <th>npq_6</th>\n",
       "      <th>npq_7</th>\n",
       "      <th>npq_8</th>\n",
       "      <th>npq_9</th>\n",
       "      <th>npq_10</th>\n",
       "      <th>npq_11</th>\n",
       "      <th>npq_12</th>\n",
       "      <th>npq_13</th>\n",
       "      <th>npq_14</th>\n",
       "      <th>npq_15</th>\n",
       "      <th>npq_16</th>\n",
       "      <th>npq_17</th>\n",
       "      <th>npq_18</th>\n",
       "      <th>npq_19</th>\n",
       "      <th>npq_20</th>\n",
       "      <th>npq_21</th>\n",
       "      <th>npq_22</th>\n",
       "      <th>npq_23</th>\n",
       "      <th>npq_24</th>\n",
       "      <th>npq_25</th>\n",
       "      <th>npq_26</th>\n",
       "      <th>npq_27</th>\n",
       "      <th>npq_28</th>\n",
       "      <th>npq_29</th>\n",
       "      <th>npq_30</th>\n",
       "      <th>npq_31</th>\n",
       "      <th>npq_32</th>\n",
       "      <th>npq_33</th>\n",
       "      <th>npq_34</th>\n",
       "      <th>npq_35</th>\n",
       "      <th>npq_36</th>\n",
       "      <th>npq_37</th>\n",
       "      <th>npq_38</th>\n",
       "      <th>npq_39</th>\n",
       "      <th>npq_40</th>\n",
       "      <th>npq_41</th>\n",
       "      <th>npq_42</th>\n",
       "      <th>npq_43</th>\n",
       "      <th>npq_44</th>\n",
       "      <th>npq_45</th>\n",
       "      <th>npq_46</th>\n",
       "      <th>npq_47</th>\n",
       "      <th>npq_48</th>\n",
       "      <th>npq_49</th>\n",
       "      <th>npq_50</th>\n",
       "      <th>npq_51</th>\n",
       "      <th>npq_52</th>\n",
       "      <th>npq_53</th>\n",
       "      <th>npq_54</th>\n",
       "      <th>npq_55</th>\n",
       "      <th>npq_56</th>\n",
       "      <th>npq_57</th>\n",
       "      <th>npq_58</th>\n",
       "      <th>npq_59</th>\n",
       "      <th>npq_60</th>\n",
       "      <th>npq_61</th>\n",
       "      <th>npq_62</th>\n",
       "      <th>npq_63</th>\n",
       "      <th>npq_64</th>\n",
       "      <th>npq_65</th>\n",
       "      <th>npq_66</th>\n",
       "      <th>npq_67</th>\n",
       "      <th>npq_68</th>\n",
       "      <th>npq_69</th>\n",
       "      <th>npq_70</th>\n",
       "      <th>npq_71</th>\n",
       "      <th>npq_72</th>\n",
       "      <th>npq_73</th>\n",
       "      <th>npq_74</th>\n",
       "      <th>npq_75</th>\n",
       "      <th>npq_76</th>\n",
       "      <th>npq_77</th>\n",
       "      <th>npq_78</th>\n",
       "      <th>npq_79</th>\n",
       "      <th>npq_80</th>\n",
       "      <th>npq_81</th>\n",
       "      <th>measurement_time_0</th>\n",
       "      <th>measurement_time_1</th>\n",
       "      <th>measurement_time_2</th>\n",
       "      <th>measurement_time_3</th>\n",
       "      <th>measurement_time_4</th>\n",
       "      <th>measurement_time_5</th>\n",
       "      <th>measurement_time_6</th>\n",
       "      <th>measurement_time_7</th>\n",
       "      <th>measurement_time_8</th>\n",
       "      <th>measurement_time_9</th>\n",
       "      <th>measurement_time_10</th>\n",
       "      <th>measurement_time_11</th>\n",
       "      <th>measurement_time_12</th>\n",
       "      <th>measurement_time_13</th>\n",
       "      <th>measurement_time_14</th>\n",
       "      <th>measurement_time_15</th>\n",
       "      <th>measurement_time_16</th>\n",
       "      <th>measurement_time_17</th>\n",
       "      <th>measurement_time_18</th>\n",
       "      <th>measurement_time_19</th>\n",
       "      <th>measurement_time_20</th>\n",
       "      <th>measurement_time_21</th>\n",
       "      <th>measurement_time_22</th>\n",
       "      <th>measurement_time_23</th>\n",
       "      <th>measurement_time_24</th>\n",
       "      <th>measurement_time_25</th>\n",
       "      <th>measurement_time_26</th>\n",
       "      <th>measurement_time_27</th>\n",
       "      <th>measurement_time_28</th>\n",
       "      <th>measurement_time_29</th>\n",
       "      <th>measurement_time_30</th>\n",
       "      <th>measurement_time_31</th>\n",
       "      <th>measurement_time_32</th>\n",
       "      <th>measurement_time_33</th>\n",
       "      <th>measurement_time_34</th>\n",
       "      <th>measurement_time_35</th>\n",
       "      <th>measurement_time_36</th>\n",
       "      <th>measurement_time_37</th>\n",
       "      <th>measurement_time_38</th>\n",
       "      <th>measurement_time_39</th>\n",
       "      <th>measurement_time_40</th>\n",
       "      <th>measurement_time_41</th>\n",
       "      <th>measurement_time_42</th>\n",
       "      <th>measurement_time_43</th>\n",
       "      <th>measurement_time_44</th>\n",
       "      <th>measurement_time_45</th>\n",
       "      <th>measurement_time_46</th>\n",
       "      <th>measurement_time_47</th>\n",
       "      <th>measurement_time_48</th>\n",
       "      <th>measurement_time_49</th>\n",
       "      <th>measurement_time_50</th>\n",
       "      <th>measurement_time_51</th>\n",
       "      <th>measurement_time_52</th>\n",
       "      <th>measurement_time_53</th>\n",
       "      <th>measurement_time_54</th>\n",
       "      <th>measurement_time_55</th>\n",
       "      <th>measurement_time_56</th>\n",
       "      <th>measurement_time_57</th>\n",
       "      <th>measurement_time_58</th>\n",
       "      <th>measurement_time_59</th>\n",
       "      <th>measurement_time_60</th>\n",
       "      <th>measurement_time_61</th>\n",
       "      <th>measurement_time_62</th>\n",
       "      <th>measurement_time_63</th>\n",
       "      <th>measurement_time_64</th>\n",
       "      <th>measurement_time_65</th>\n",
       "      <th>measurement_time_66</th>\n",
       "      <th>measurement_time_67</th>\n",
       "      <th>measurement_time_68</th>\n",
       "      <th>measurement_time_69</th>\n",
       "      <th>measurement_time_70</th>\n",
       "      <th>measurement_time_71</th>\n",
       "      <th>measurement_time_72</th>\n",
       "      <th>measurement_time_73</th>\n",
       "      <th>measurement_time_74</th>\n",
       "      <th>measurement_time_75</th>\n",
       "      <th>measurement_time_76</th>\n",
       "      <th>measurement_time_77</th>\n",
       "      <th>measurement_time_78</th>\n",
       "      <th>measurement_time_79</th>\n",
       "      <th>measurement_time_80</th>\n",
       "      <th>measurement_time_81</th>\n",
       "      <th>well_id</th>\n",
       "      <th>mutant_ID</th>\n",
       "      <th>feature</th>\n",
       "      <th>mutated_genes</th>\n",
       "      <th>num_mutations</th>\n",
       "    </tr>\n",
       "  </thead>\n",
       "  <tbody>\n",
       "  </tbody>\n",
       "</table>\n",
       "</div>"
      ],
      "text/plain": [
       "Empty DataFrame\n",
       "Columns: [plate, measurement, start_date, light_regime, dark_threshold, light_threshold, num_frames, i, j, fv_fm, mask_area, y2_1, y2_2, y2_3, y2_4, y2_5, y2_6, y2_7, y2_8, y2_9, y2_10, y2_11, y2_12, y2_13, y2_14, y2_15, y2_16, y2_17, y2_18, y2_19, y2_20, y2_21, y2_22, y2_23, y2_24, y2_25, y2_26, y2_27, y2_28, y2_29, y2_30, y2_31, y2_32, y2_33, y2_34, y2_35, y2_36, y2_37, y2_38, y2_39, y2_40, y2_41, y2_42, y2_43, y2_44, y2_45, y2_46, y2_47, y2_48, y2_49, y2_50, y2_51, y2_52, y2_53, y2_54, y2_55, y2_56, y2_57, y2_58, y2_59, y2_60, y2_61, y2_62, y2_63, y2_64, y2_65, y2_66, y2_67, y2_68, y2_69, y2_70, y2_71, y2_72, y2_73, y2_74, y2_75, y2_76, y2_77, y2_78, y2_79, y2_80, y2_81, npq_1, npq_2, npq_3, npq_4, npq_5, npq_6, npq_7, npq_8, ...]\n",
       "Index: []"
      ]
     },
     "metadata": {},
     "output_type": "display_data"
    }
   ],
   "source": [
    "data_to_remake"
   ]
  },
  {
   "cell_type": "markdown",
   "metadata": {},
   "source": [
    "### Check the number of Nan values in the dataset"
   ]
  },
  {
   "cell_type": "code",
   "execution_count": 108,
   "metadata": {},
   "outputs": [
    {
     "name": "stdout",
     "output_type": "stream",
     "text": [
      "There are  7.256431410785269 % of time-series with NaN values in the y2 columns for 164 frames\n"
     ]
    }
   ],
   "source": [
    "data164frames = data[data['num_frames'] == 164]\n",
    "# count the fraction of row that have a NaN value in one of the y2 columns\n",
    "fraction_NaN_164frames = data164frames.filter(like='y2_').iloc[:, :80].isna().any(axis=1).sum() / len(data164frames)\n",
    "print('There are ', 100*fraction_NaN_164frames, '% of time-series with NaN values in the y2 columns for 164 frames')"
   ]
  },
  {
   "cell_type": "code",
   "execution_count": 109,
   "metadata": {},
   "outputs": [
    {
     "name": "stdout",
     "output_type": "stream",
     "text": [
      "There are  7.434463341323289 % of time-series with NaN values in the y2 columns before y2_41 for 84 frames\n"
     ]
    }
   ],
   "source": [
    "data84frames = data[data['num_frames'] == 84]\n",
    "# count the fraction of row that have a NaN value in one of the y2 columns before y2_41\n",
    "fraction_NaN_84frames = data84frames.filter(like='y2_').iloc[:, :40].isna().any(axis=1).sum() / len(data84frames)\n",
    "print('There are ', 100*fraction_NaN_84frames, '% of time-series with NaN values in the y2 columns before y2_41 for 84 frames')"
   ]
  },
  {
   "cell_type": "markdown",
   "metadata": {},
   "source": [
    "### Check the number of plate "
   ]
  },
  {
   "cell_type": "code",
   "execution_count": 125,
   "metadata": {},
   "outputs": [
    {
     "data": {
      "text/plain": [
       "plate\n",
       "99    7.979167\n",
       "2     5.984375\n",
       "20    5.984375\n",
       "1     5.984375\n",
       "23    5.984375\n",
       "22    5.984375\n",
       "21    5.984375\n",
       "18    5.984375\n",
       "8     5.984375\n",
       "16    5.984375\n",
       "15    5.984375\n",
       "14    5.984375\n",
       "13    5.984375\n",
       "11    5.984375\n",
       "10    5.984375\n",
       "9     5.984375\n",
       "3     5.984375\n",
       "24    5.234375\n",
       "12    4.986979\n",
       "17    4.986979\n",
       "7     4.986979\n",
       "6     4.986979\n",
       "5     4.986979\n",
       "4     3.989583\n",
       "Name: count, dtype: float64"
      ]
     },
     "execution_count": 125,
     "metadata": {},
     "output_type": "execute_result"
    }
   ],
   "source": [
    "data['plate'].value_counts()/384"
   ]
  },
  {
   "cell_type": "markdown",
   "metadata": {},
   "source": [
    "### Check if the fv_fm values are not the same between to consecutive days"
   ]
  },
  {
   "cell_type": "code",
   "execution_count": null,
   "metadata": {},
   "outputs": [
    {
     "data": {
      "text/plain": [
       "99    12.0\n",
       "18     6.0\n",
       "8      6.0\n",
       "5      6.0\n",
       "7      6.0\n",
       "      ... \n",
       "14     4.0\n",
       "3      4.0\n",
       "2      3.0\n",
       "12     3.0\n",
       "4      3.0\n",
       "Name: plate, Length: 18, dtype: float64"
      ]
     },
     "metadata": {},
     "output_type": "display_data"
    }
   ],
   "source": [
    "# Check if the fv_fm values are not the same between to consecutive days"
   ]
  },
  {
   "cell_type": "markdown",
   "metadata": {},
   "source": [
    "### Check if there are some negative values in the y2 data"
   ]
  },
  {
   "cell_type": "code",
   "execution_count": 126,
   "metadata": {},
   "outputs": [
    {
     "data": {
      "text/plain": [
       "1511"
      ]
     },
     "execution_count": 126,
     "metadata": {},
     "output_type": "execute_result"
    }
   ],
   "source": [
    "# Check if there are some negative values in the y2 data\n",
    "data.filter(like='y2_').lt(0).sum().sum()"
   ]
  },
  {
   "cell_type": "code",
   "execution_count": 24,
   "metadata": {},
   "outputs": [
    {
     "data": {
      "text/html": [
       "<div>\n",
       "<style scoped>\n",
       "    .dataframe tbody tr th:only-of-type {\n",
       "        vertical-align: middle;\n",
       "    }\n",
       "\n",
       "    .dataframe tbody tr th {\n",
       "        vertical-align: top;\n",
       "    }\n",
       "\n",
       "    .dataframe thead th {\n",
       "        text-align: right;\n",
       "    }\n",
       "</style>\n",
       "<table border=\"1\" class=\"dataframe\">\n",
       "  <thead>\n",
       "    <tr style=\"text-align: right;\">\n",
       "      <th></th>\n",
       "      <th>plate</th>\n",
       "      <th>measurement</th>\n",
       "      <th>start_date</th>\n",
       "      <th>light_regime</th>\n",
       "      <th>dark_threshold</th>\n",
       "      <th>light_threshold</th>\n",
       "      <th>num_frames</th>\n",
       "      <th>i</th>\n",
       "      <th>j</th>\n",
       "      <th>fv_fm</th>\n",
       "      <th>...</th>\n",
       "      <th>well_id</th>\n",
       "      <th>mutant_ID</th>\n",
       "      <th>feature</th>\n",
       "      <th>mutated_genes</th>\n",
       "      <th>num_mutations</th>\n",
       "      <th>fv_fm_end</th>\n",
       "      <th>well_id_numeric</th>\n",
       "      <th>mean_y2</th>\n",
       "      <th>median</th>\n",
       "      <th>log_likelihood_null</th>\n",
       "    </tr>\n",
       "  </thead>\n",
       "  <tbody>\n",
       "    <tr>\n",
       "      <th>770</th>\n",
       "      <td>2</td>\n",
       "      <td>M1</td>\n",
       "      <td>2023-10-18</td>\n",
       "      <td>1min-1min</td>\n",
       "      <td>17.607635</td>\n",
       "      <td>25.893194</td>\n",
       "      <td>164</td>\n",
       "      <td>0</td>\n",
       "      <td>2</td>\n",
       "      <td>0.547058</td>\n",
       "      <td>...</td>\n",
       "      <td>A03</td>\n",
       "      <td>LMJ.RY0402.071251</td>\n",
       "      <td>MULTIPLE_SPLICE_VARIANTS</td>\n",
       "      <td>Cre11.g479350,Cre07.g343933</td>\n",
       "      <td>2.0</td>\n",
       "      <td>0.489591</td>\n",
       "      <td>2</td>\n",
       "      <td>0.299502</td>\n",
       "      <td>None</td>\n",
       "      <td>None</td>\n",
       "    </tr>\n",
       "    <tr>\n",
       "      <th>963</th>\n",
       "      <td>2</td>\n",
       "      <td>M1</td>\n",
       "      <td>2023-10-18</td>\n",
       "      <td>1min-1min</td>\n",
       "      <td>17.607635</td>\n",
       "      <td>25.893194</td>\n",
       "      <td>164</td>\n",
       "      <td>8</td>\n",
       "      <td>3</td>\n",
       "      <td>0.436100</td>\n",
       "      <td>...</td>\n",
       "      <td>I04</td>\n",
       "      <td>LMJ.RY0402.063672</td>\n",
       "      <td>3'UTR,CDS</td>\n",
       "      <td>Cre02.g146750</td>\n",
       "      <td>1.0</td>\n",
       "      <td>0.396992</td>\n",
       "      <td>195</td>\n",
       "      <td>0.200067</td>\n",
       "      <td>None</td>\n",
       "      <td>None</td>\n",
       "    </tr>\n",
       "    <tr>\n",
       "      <th>1056</th>\n",
       "      <td>2</td>\n",
       "      <td>M1</td>\n",
       "      <td>2023-10-18</td>\n",
       "      <td>1min-1min</td>\n",
       "      <td>17.607635</td>\n",
       "      <td>25.893194</td>\n",
       "      <td>164</td>\n",
       "      <td>12</td>\n",
       "      <td>0</td>\n",
       "      <td>0.568147</td>\n",
       "      <td>...</td>\n",
       "      <td>M01</td>\n",
       "      <td>LMJ.RY0402.061439</td>\n",
       "      <td>intron</td>\n",
       "      <td>Cre12.g528250</td>\n",
       "      <td>1.0</td>\n",
       "      <td>0.48913</td>\n",
       "      <td>288</td>\n",
       "      <td>0.303976</td>\n",
       "      <td>None</td>\n",
       "      <td>None</td>\n",
       "    </tr>\n",
       "    <tr>\n",
       "      <th>1104</th>\n",
       "      <td>2</td>\n",
       "      <td>M1</td>\n",
       "      <td>2023-10-18</td>\n",
       "      <td>1min-1min</td>\n",
       "      <td>17.607635</td>\n",
       "      <td>25.893194</td>\n",
       "      <td>164</td>\n",
       "      <td>14</td>\n",
       "      <td>0</td>\n",
       "      <td>0.672342</td>\n",
       "      <td>...</td>\n",
       "      <td>O01</td>\n",
       "      <td>LMJ.RY0402.063493</td>\n",
       "      <td>CDS</td>\n",
       "      <td>Cre12.g516450</td>\n",
       "      <td>1.0</td>\n",
       "      <td>0.559224</td>\n",
       "      <td>336</td>\n",
       "      <td>0.354824</td>\n",
       "      <td>None</td>\n",
       "      <td>None</td>\n",
       "    </tr>\n",
       "    <tr>\n",
       "      <th>1142</th>\n",
       "      <td>2</td>\n",
       "      <td>M1</td>\n",
       "      <td>2023-10-18</td>\n",
       "      <td>1min-1min</td>\n",
       "      <td>17.607635</td>\n",
       "      <td>25.893194</td>\n",
       "      <td>164</td>\n",
       "      <td>15</td>\n",
       "      <td>14</td>\n",
       "      <td>0.600734</td>\n",
       "      <td>...</td>\n",
       "      <td>P15</td>\n",
       "      <td>LMJ.RY0402.072442</td>\n",
       "      <td>intron</td>\n",
       "      <td>Cre06.g303751</td>\n",
       "      <td>1.0</td>\n",
       "      <td>0.673159</td>\n",
       "      <td>374</td>\n",
       "      <td>0.379487</td>\n",
       "      <td>None</td>\n",
       "      <td>None</td>\n",
       "    </tr>\n",
       "    <tr>\n",
       "      <th>...</th>\n",
       "      <td>...</td>\n",
       "      <td>...</td>\n",
       "      <td>...</td>\n",
       "      <td>...</td>\n",
       "      <td>...</td>\n",
       "      <td>...</td>\n",
       "      <td>...</td>\n",
       "      <td>...</td>\n",
       "      <td>...</td>\n",
       "      <td>...</td>\n",
       "      <td>...</td>\n",
       "      <td>...</td>\n",
       "      <td>...</td>\n",
       "      <td>...</td>\n",
       "      <td>...</td>\n",
       "      <td>...</td>\n",
       "      <td>...</td>\n",
       "      <td>...</td>\n",
       "      <td>...</td>\n",
       "      <td>...</td>\n",
       "      <td>...</td>\n",
       "    </tr>\n",
       "    <tr>\n",
       "      <th>46220</th>\n",
       "      <td>20</td>\n",
       "      <td>M2</td>\n",
       "      <td>2024-04-07</td>\n",
       "      <td>20h_HL</td>\n",
       "      <td>15.370542</td>\n",
       "      <td>25.490716</td>\n",
       "      <td>84</td>\n",
       "      <td>5</td>\n",
       "      <td>20</td>\n",
       "      <td>0.574723</td>\n",
       "      <td>...</td>\n",
       "      <td>F21</td>\n",
       "      <td>LMJ.RY0402.062276</td>\n",
       "      <td>intron,CDS</td>\n",
       "      <td>Cre12.g510350</td>\n",
       "      <td>1.0</td>\n",
       "      <td>0.360055</td>\n",
       "      <td>140</td>\n",
       "      <td>0.040806</td>\n",
       "      <td>None</td>\n",
       "      <td>None</td>\n",
       "    </tr>\n",
       "    <tr>\n",
       "      <th>46222</th>\n",
       "      <td>20</td>\n",
       "      <td>M2</td>\n",
       "      <td>2024-04-07</td>\n",
       "      <td>20h_HL</td>\n",
       "      <td>15.370542</td>\n",
       "      <td>25.490716</td>\n",
       "      <td>84</td>\n",
       "      <td>5</td>\n",
       "      <td>22</td>\n",
       "      <td>0.582876</td>\n",
       "      <td>...</td>\n",
       "      <td>F23</td>\n",
       "      <td>LMJ.RY0402.062258</td>\n",
       "      <td>MULTIPLE_SPLICE_VARIANTS,-</td>\n",
       "      <td>Cre12.g550800</td>\n",
       "      <td>1.0</td>\n",
       "      <td>0.418413</td>\n",
       "      <td>142</td>\n",
       "      <td>0.053917</td>\n",
       "      <td>None</td>\n",
       "      <td>None</td>\n",
       "    </tr>\n",
       "    <tr>\n",
       "      <th>46254</th>\n",
       "      <td>20</td>\n",
       "      <td>M2</td>\n",
       "      <td>2024-04-07</td>\n",
       "      <td>20h_HL</td>\n",
       "      <td>15.370542</td>\n",
       "      <td>25.490716</td>\n",
       "      <td>84</td>\n",
       "      <td>7</td>\n",
       "      <td>6</td>\n",
       "      <td>0.515702</td>\n",
       "      <td>...</td>\n",
       "      <td>H07</td>\n",
       "      <td>LMJ.RY0402.070753</td>\n",
       "      <td>intron</td>\n",
       "      <td>Cre12.g542250</td>\n",
       "      <td>1.0</td>\n",
       "      <td>0.37664</td>\n",
       "      <td>174</td>\n",
       "      <td>0.059814</td>\n",
       "      <td>None</td>\n",
       "      <td>None</td>\n",
       "    </tr>\n",
       "    <tr>\n",
       "      <th>46367</th>\n",
       "      <td>20</td>\n",
       "      <td>M2</td>\n",
       "      <td>2024-04-07</td>\n",
       "      <td>20h_HL</td>\n",
       "      <td>15.370542</td>\n",
       "      <td>25.490716</td>\n",
       "      <td>84</td>\n",
       "      <td>11</td>\n",
       "      <td>23</td>\n",
       "      <td>0.647076</td>\n",
       "      <td>...</td>\n",
       "      <td>L24</td>\n",
       "      <td>LMJ.RY0402.098018</td>\n",
       "      <td>intron</td>\n",
       "      <td>Cre01.g023750</td>\n",
       "      <td>1.0</td>\n",
       "      <td>0.435191</td>\n",
       "      <td>287</td>\n",
       "      <td>0.124314</td>\n",
       "      <td>None</td>\n",
       "      <td>None</td>\n",
       "    </tr>\n",
       "    <tr>\n",
       "      <th>46446</th>\n",
       "      <td>20</td>\n",
       "      <td>M2</td>\n",
       "      <td>2024-04-07</td>\n",
       "      <td>20h_HL</td>\n",
       "      <td>15.370542</td>\n",
       "      <td>25.490716</td>\n",
       "      <td>84</td>\n",
       "      <td>15</td>\n",
       "      <td>6</td>\n",
       "      <td>0.042551</td>\n",
       "      <td>...</td>\n",
       "      <td>P07</td>\n",
       "      <td>LMJ.RY0402.114464</td>\n",
       "      <td>intron</td>\n",
       "      <td>Cre03.g152200</td>\n",
       "      <td>1.0</td>\n",
       "      <td>0.033982</td>\n",
       "      <td>366</td>\n",
       "      <td>-0.122722</td>\n",
       "      <td>None</td>\n",
       "      <td>None</td>\n",
       "    </tr>\n",
       "  </tbody>\n",
       "</table>\n",
       "<p>282 rows × 264 columns</p>\n",
       "</div>"
      ],
      "text/plain": [
       "       plate measurement start_date light_regime  dark_threshold  \\\n",
       "770        2          M1 2023-10-18    1min-1min       17.607635   \n",
       "963        2          M1 2023-10-18    1min-1min       17.607635   \n",
       "1056       2          M1 2023-10-18    1min-1min       17.607635   \n",
       "1104       2          M1 2023-10-18    1min-1min       17.607635   \n",
       "1142       2          M1 2023-10-18    1min-1min       17.607635   \n",
       "...      ...         ...        ...          ...             ...   \n",
       "46220     20          M2 2024-04-07       20h_HL       15.370542   \n",
       "46222     20          M2 2024-04-07       20h_HL       15.370542   \n",
       "46254     20          M2 2024-04-07       20h_HL       15.370542   \n",
       "46367     20          M2 2024-04-07       20h_HL       15.370542   \n",
       "46446     20          M2 2024-04-07       20h_HL       15.370542   \n",
       "\n",
       "       light_threshold  num_frames   i   j     fv_fm  ...  well_id  \\\n",
       "770          25.893194         164   0   2  0.547058  ...      A03   \n",
       "963          25.893194         164   8   3  0.436100  ...      I04   \n",
       "1056         25.893194         164  12   0  0.568147  ...      M01   \n",
       "1104         25.893194         164  14   0  0.672342  ...      O01   \n",
       "1142         25.893194         164  15  14  0.600734  ...      P15   \n",
       "...                ...         ...  ..  ..       ...  ...      ...   \n",
       "46220        25.490716          84   5  20  0.574723  ...      F21   \n",
       "46222        25.490716          84   5  22  0.582876  ...      F23   \n",
       "46254        25.490716          84   7   6  0.515702  ...      H07   \n",
       "46367        25.490716          84  11  23  0.647076  ...      L24   \n",
       "46446        25.490716          84  15   6  0.042551  ...      P07   \n",
       "\n",
       "               mutant_ID                     feature  \\\n",
       "770    LMJ.RY0402.071251    MULTIPLE_SPLICE_VARIANTS   \n",
       "963    LMJ.RY0402.063672                   3'UTR,CDS   \n",
       "1056   LMJ.RY0402.061439                      intron   \n",
       "1104   LMJ.RY0402.063493                         CDS   \n",
       "1142   LMJ.RY0402.072442                      intron   \n",
       "...                  ...                         ...   \n",
       "46220  LMJ.RY0402.062276                  intron,CDS   \n",
       "46222  LMJ.RY0402.062258  MULTIPLE_SPLICE_VARIANTS,-   \n",
       "46254  LMJ.RY0402.070753                      intron   \n",
       "46367  LMJ.RY0402.098018                      intron   \n",
       "46446  LMJ.RY0402.114464                      intron   \n",
       "\n",
       "                     mutated_genes  num_mutations  fv_fm_end  well_id_numeric  \\\n",
       "770    Cre11.g479350,Cre07.g343933            2.0   0.489591                2   \n",
       "963                  Cre02.g146750            1.0   0.396992              195   \n",
       "1056                 Cre12.g528250            1.0    0.48913              288   \n",
       "1104                 Cre12.g516450            1.0   0.559224              336   \n",
       "1142                 Cre06.g303751            1.0   0.673159              374   \n",
       "...                            ...            ...        ...              ...   \n",
       "46220                Cre12.g510350            1.0   0.360055              140   \n",
       "46222                Cre12.g550800            1.0   0.418413              142   \n",
       "46254                Cre12.g542250            1.0    0.37664              174   \n",
       "46367                Cre01.g023750            1.0   0.435191              287   \n",
       "46446                Cre03.g152200            1.0   0.033982              366   \n",
       "\n",
       "        mean_y2  median  log_likelihood_null  \n",
       "770    0.299502    None                 None  \n",
       "963    0.200067    None                 None  \n",
       "1056   0.303976    None                 None  \n",
       "1104   0.354824    None                 None  \n",
       "1142   0.379487    None                 None  \n",
       "...         ...     ...                  ...  \n",
       "46220  0.040806    None                 None  \n",
       "46222  0.053917    None                 None  \n",
       "46254  0.059814    None                 None  \n",
       "46367  0.124314    None                 None  \n",
       "46446 -0.122722    None                 None  \n",
       "\n",
       "[282 rows x 264 columns]"
      ]
     },
     "execution_count": 24,
     "metadata": {},
     "output_type": "execute_result"
    }
   ],
   "source": [
    "# get the rows that have negative values in the y2 data\n",
    "negative_rows = data[data.filter(like='y2_').lt(0).any(axis=1)]\n",
    "negative_rows"
   ]
  },
  {
   "cell_type": "markdown",
   "metadata": {},
   "source": [
    "At this point, we have checked that the data is consistent and that there are no major issues with it. We can now proceed to the analysis. In order to do so, we first remove the Nan values and the anomalies in the data, that we have identified in the previous steps."
   ]
  },
  {
   "cell_type": "code",
   "execution_count": null,
   "metadata": {},
   "outputs": [],
   "source": [
    "# Remove the rows that have an anomaly in their number of frames or fv_fm values\n",
    "data = data[data['num_frames'] <= 164]\n",
    "data = data.dropna(subset=['fv_fm'])\n",
    "\n",
    "data_WT = data[data['plate'] == 99]\n",
    "data_not_WT = data[data['plate'] != 99]\n",
    "data_1min = data[data['light_regime'] == '1min-1min']\n",
    "data_ML = data[data['light_regime'] == '20h_ML']\n",
    "data_HL = data[data['light_regime'] == '20h_HL']\n",
    "data_30s = data[data['light_regime'] == '30s-30s']\n",
    "data_2h = data[data['light_regime'] == '2h-2h']\n",
    "data_10min = data[data['light_regime'] == '10min-10min']"
   ]
  },
  {
   "cell_type": "code",
   "execution_count": null,
   "metadata": {},
   "outputs": [],
   "source": []
  }
 ],
 "metadata": {
  "kernelspec": {
   "display_name": "venv",
   "language": "python",
   "name": "python3"
  },
  "language_info": {
   "codemirror_mode": {
    "name": "ipython",
    "version": 3
   },
   "file_extension": ".py",
   "mimetype": "text/x-python",
   "name": "python",
   "nbconvert_exporter": "python",
   "pygments_lexer": "ipython3",
   "version": "3.11.2"
  }
 },
 "nbformat": 4,
 "nbformat_minor": 2
}
